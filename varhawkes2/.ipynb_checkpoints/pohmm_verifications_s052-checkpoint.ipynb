{
 "cells": [
  {
   "cell_type": "code",
   "execution_count": 2,
   "metadata": {},
   "outputs": [],
   "source": [
    "import pandas as pd\n",
    "import numpy as np\n",
    "#from sklearn.preprocessing import StandardScaler,RobustScaler,MinMaxScaler\n",
    "\n",
    "np.set_printoptions(threshold=np.inf)\n",
    "\n",
    "object_user = 's052'\n",
    "\n",
    "#数据准备\n",
    "fileName = 's052_200train_verification_results_out.csv'\n",
    "df = pd.read_csv(fileName)\n",
    "#正测试样本\n",
    "df_positive = df[0:200]\n",
    "#负测试样本\n",
    "df_negative1 = df[200+(1-1)*350:200+350]   #s002\n",
    "df_negative2 = df[200+(26-1)*350:200+26*350]  #s032\n",
    "df_negative3 = df[200+(30-1)*350:200+30*350]  #s036\n",
    "df_negative4 = df[200+(40-1)*350:200+40*350]  #s047\n",
    "df_negative = df_negative1.append([df_negative2,df_negative3,df_negative4])"
   ]
  },
  {
   "cell_type": "code",
   "execution_count": 4,
   "metadata": {},
   "outputs": [],
   "source": [
    "y_true = [1]*200+[0]*1400\n",
    "y_predict = df_positive['score'].tolist() + df_negative['score'].tolist()\n",
    "\n",
    "path = './result/'\n",
    "\n",
    "CMU_SVM_fileName = path + 'SVM_best'+object_user+'_CMU_pred_final.txt'  \n",
    "df_CMU_SVM = np.loadtxt(CMU_SVM_fileName).tolist()#模型的预测值\n",
    "\n",
    "CMU_ANN_fileName = path + 'ANN_'+object_user+'_CMU_pred_final.txt'\n",
    "df_CMU_ANN = np.loadtxt(CMU_ANN_fileName).tolist()#模型的预测值\n",
    "\n",
    "Hawkes_SVM_fileName = path + 'feature_SVM_best'+object_user+'_Hawkes.txt'\n",
    "df_Hawkes_SVM = np.loadtxt(Hawkes_SVM_fileName).tolist()\n",
    "\n",
    "Hawkes_ANN_fileName = path + 'feature_ANN_'+object_user+'_Hawkes.txt'\n",
    "df_Hawkes_ANN = np.loadtxt(Hawkes_ANN_fileName).tolist()\n",
    "\n"
   ]
  },
  {
   "cell_type": "code",
   "execution_count": 5,
   "metadata": {},
   "outputs": [
    {
     "data": {
      "text/plain": [
       "<Figure size 800x800 with 1 Axes>"
      ]
     },
     "metadata": {},
     "output_type": "display_data"
    }
   ],
   "source": [
    "# -*- coding: utf-8 -*-\n",
    "import matplotlib.pyplot as plt\n",
    "#from sklearn import svm\n",
    "from sklearn.metrics import roc_curve, auc  ###计算roc和auc\n",
    "#import numpy as np\n",
    "#import random\n",
    "\n",
    "fpr, tpr, threshold = roc_curve(y_true, y_predict)  ###计算真正率和假正率\n",
    "roc_auc = auc(fpr, tpr)  ###计算auc的值\n",
    "\n",
    "fpr_CMU_SVM, tpr_CMU_SVM, threshold_CMU_SVM = roc_curve(y_true, df_CMU_SVM)\n",
    "roc_auc_CMU_SVM = auc(fpr_CMU_SVM, tpr_CMU_SVM)\n",
    " \n",
    "fpr_CMU_ANN, tpr_CMU_ANN, threshold_CMU_ANN = roc_curve(y_true, df_CMU_ANN)\n",
    "roc_auc_CMU_ANN = auc(fpr_CMU_ANN, tpr_CMU_ANN)\n",
    "\n",
    "fpr_Hawkes_SVM, tpr_Hawkes_SVM, threshold_Hawkes_SVM = roc_curve(y_true, df_Hawkes_SVM)\n",
    "roc_auc_Hawkes_SVM = auc(fpr_Hawkes_SVM, tpr_Hawkes_SVM)\n",
    "\n",
    "fpr_Hawkes_ANN, tpr_Hawkes_ANN, threshold_Hawkes_ANN = roc_curve(y_true, df_Hawkes_ANN)\n",
    "roc_auc_Hawkes_ANN = auc(fpr_Hawkes_ANN, tpr_Hawkes_ANN)\n",
    "    \n",
    "plt.figure(figsize=(8, 8))\n",
    "plt.plot(fpr, tpr, color='darkorange', ###假正率为横坐标，真正率为纵坐标做曲线\n",
    "         lw=2, label='POHMM (area = %0.3f)' % roc_auc, linestyle='-')\n",
    "plt.plot(fpr_CMU_SVM, tpr_CMU_SVM, color='red',\n",
    "         lw=2, label='CMU ora feature SVM (area = %0.3f)' % roc_auc_CMU_SVM, linestyle='-')\n",
    "plt.plot(fpr_CMU_ANN, tpr_CMU_ANN, color='blue',\n",
    "         lw=2, label='CMU ora feature ANN (area = %0.3f)' % roc_auc_CMU_ANN, linestyle='--')\n",
    "plt.plot(fpr_Hawkes_SVM, tpr_Hawkes_SVM, color='#800080',\n",
    "         lw=2, label='Hawkes feature SVM (area = %0.3f)' % roc_auc_Hawkes_SVM, linestyle='--')\n",
    "plt.plot(fpr_Hawkes_ANN, tpr_Hawkes_ANN, color='#D2691E',\n",
    "         lw=2, label='Hawkes feature ANN (area = %0.3f)' % roc_auc_Hawkes_ANN, linestyle='-.')\n",
    "\n",
    "plt.plot([0, 1], [0, 1], color='navy', lw=2, linestyle='--')\n",
    "#plt.xlim([-0.02, 1.05])#横竖增加一点长度 以便更好观察图像\n",
    "#plt.ylim([-0.02, 1.05])\n",
    "plt.xlabel('False Positive Rate')\n",
    "plt.ylabel('True Positive Rate')\n",
    "plt.title('different feature comparison of '+object_user)\n",
    "plt.legend(loc=\"lower right\")\n",
    "save_file = object_user+'POHMM_200samples.png'\n",
    "plt.savefig(save_file,dpi=600)#保存图片，dpi设置分辨率\n",
    "plt.show()"
   ]
  },
  {
   "cell_type": "code",
   "execution_count": 16,
   "metadata": {},
   "outputs": [
    {
     "data": {
      "image/png": "[encoded data removed]",
      "text/plain": [
       "<Figure size 576x576 with 1 Axes>"
      ]
     },
     "metadata": {
      "needs_background": "light"
     },
     "output_type": "display_data"
    }
   ],
   "source": [
    "# -*- coding: utf-8 -*-\n",
    "import matplotlib.pyplot as plt\n",
    "#from sklearn import svm\n",
    "from sklearn.metrics import roc_curve, auc  ###计算roc和auc\n",
    "#import numpy as np\n",
    "#import random\n",
    "\n",
    "fpr, tpr, threshold = roc_curve(y_true, y_predict)  ###计算真正率和假正率\n",
    "roc_auc = auc(fpr, tpr)  ###计算auc的值\n",
    "\n",
    "fpr_CMU_SVM, tpr_CMU_SVM, threshold_CMU_SVM = roc_curve(y_true, df_CMU_SVM)\n",
    "roc_auc_CMU_SVM = auc(fpr_CMU_SVM, tpr_CMU_SVM)\n",
    " \n",
    "fpr_CMU_ANN, tpr_CMU_ANN, threshold_CMU_ANN = roc_curve(y_true, df_CMU_ANN)\n",
    "roc_auc_CMU_ANN = auc(fpr_CMU_ANN, tpr_CMU_ANN)\n",
    "\n",
    "fpr_Hawkes_SVM, tpr_Hawkes_SVM, threshold_Hawkes_SVM = roc_curve(y_true, df_Hawkes_SVM)\n",
    "roc_auc_Hawkes_SVM = auc(fpr_Hawkes_SVM, tpr_Hawkes_SVM)\n",
    "\n",
    "fpr_Hawkes_ANN, tpr_Hawkes_ANN, threshold_Hawkes_ANN = roc_curve(y_true, df_Hawkes_ANN)\n",
    "roc_auc_Hawkes_ANN = auc(fpr_Hawkes_ANN, tpr_Hawkes_ANN)\n",
    "    \n",
    "plt.figure(figsize=(8, 8))\n",
    "plt.plot(fpr, 1- tpr, color='darkorange', ###假正率为横坐标，真正率为纵坐标做曲线\n",
    "         lw=2, label='POHMM (area = %0.3f)' % roc_auc, linestyle='-')\n",
    "plt.plot(fpr_CMU_SVM, 1- tpr_CMU_SVM, color='red',\n",
    "         lw=2, label='CMU ora feature SVM (area = %0.3f)' % roc_auc_CMU_SVM, linestyle='-')\n",
    "plt.plot(fpr_CMU_ANN, 1- tpr_CMU_ANN, color='blue',\n",
    "         lw=2, label='CMU ora feature ANN (area = %0.3f)' % roc_auc_CMU_ANN, linestyle='--')\n",
    "plt.plot(fpr_Hawkes_SVM, 1- tpr_Hawkes_SVM, color='#800080',\n",
    "         lw=2, label='Hawkes feature SVM (area = %0.3f)' % roc_auc_Hawkes_SVM, linestyle='--')\n",
    "plt.plot(fpr_Hawkes_ANN, 1- tpr_Hawkes_ANN, color='#D2691E',\n",
    "         lw=2, label='Hawkes feature ANN (area = %0.3f)' % roc_auc_Hawkes_ANN, linestyle='-.')\n",
    "\n",
    "plt.plot([0, 1], [0, 1], color='navy', lw=2, linestyle='--')\n",
    "#plt.xlim([-0.02, 1.05])#横竖增加一点长度 以便更好观察图像\n",
    "#plt.ylim([-0.02, 1.05])\n",
    "plt.xlabel('False Acceptance Rate')\n",
    "plt.ylabel('False Rejection Rate')\n",
    "plt.title('different feature comparison of '+object_user)\n",
    "plt.legend(loc=\"lower right\")\n",
    "save_file = object_user+'POHMM_200samples.png'\n",
    "plt.savefig(save_file,dpi=600)#保存图片，dpi设置分辨率\n",
    "plt.show()"
   ]
  },
  {
   "cell_type": "code",
   "execution_count": null,
   "metadata": {},
   "outputs": [],
   "source": []
  },
  {
   "cell_type": "code",
   "execution_count": null,
   "metadata": {},
   "outputs": [],
   "source": []
  }
 ],
 "metadata": {
  "kernelspec": {
   "display_name": "Python 3",
   "language": "python",
   "name": "python3"
  },
  "language_info": {
   "codemirror_mode": {
    "name": "ipython",
    "version": 3
   },
   "file_extension": ".py",
   "mimetype": "text/x-python",
   "name": "python",
   "nbconvert_exporter": "python",
   "pygments_lexer": "ipython3",
   "version": "3.6.7"
  }
 },
 "nbformat": 4,
 "nbformat_minor": 2
}
