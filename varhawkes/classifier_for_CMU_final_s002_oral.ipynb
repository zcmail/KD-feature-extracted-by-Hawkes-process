{
 "cells": [
  {
   "cell_type": "code",
   "execution_count": 10,
   "metadata": {},
   "outputs": [],
   "source": [
    "import matplotlib.pyplot as plt\n",
    "import matplotlib.mlab as mlab\n",
    "from pandas import DataFrame\n",
    "import pandas as pd\n",
    "import seaborn as sns\n",
    "import numpy as np\n",
    "import json\n",
    "import os\n",
    "\n",
    "np.set_printoptions(threshold=np.inf)\n",
    "\n",
    "fileName = './data/DSL-StrongPasswordData.xls'\n",
    "df_oral = pd.read_excel(fileName)\n",
    "df_oral = df_oral[(df_oral['subject']== 's002') | (df_oral['subject']== 's032') | (df_oral['subject']== 's036') | (df_oral['subject']== 's047') | (df_oral['subject']== 's052')] \n",
    "\n",
    "ud_features = [column for column in df_oral.columns if 'UD' in column]\n",
    "dd_features = [column for column in df_oral.columns if 'DD' in column]\n",
    "\n",
    "object_user = 's002'\n",
    "#object_user = 's032'\n",
    "#object_user = 's036'\n",
    "#object_user = 's047'\n",
    "#object_user = 's052'\n",
    "\n",
    "df_oral.loc[df_oral['subject']!=object_user,'subject'] = 'imposter'\n",
    "df = df_oral\n",
    "\n",
    "#df = df_oral.loc[(df_oral['subject']==object_user) | (df_oral['sessionIndex']<=4)]\n",
    "\n",
    "#print (df) \n",
    "###################################PCA\n",
    "from sklearn.decomposition import PCA\n",
    "from sklearn.preprocessing import StandardScaler,LabelEncoder,LabelEncoder\n",
    "\n",
    "le = LabelEncoder()\n",
    "df['target'] = le.fit_transform(df['subject'])\n",
    "df.drop(['subject'], axis=1, inplace=True)\n",
    "\n",
    "X = df.drop(['target','rep','sessionIndex'], axis=1)[ud_features+dd_features]\n",
    "y = df['target'].values\n",
    "\n",
    "ss = StandardScaler()\n",
    "X = ss.fit_transform(X)\n",
    "X = pd.DataFrame(X)"
   ]
  },
  {
   "cell_type": "markdown",
   "metadata": {},
   "source": [
    "将样本分为训练集和测试集"
   ]
  },
  {
   "cell_type": "code",
   "execution_count": 11,
   "metadata": {},
   "outputs": [],
   "source": [
    "'''\n",
    "from sklearn.model_selection import train_test_split\n",
    "\n",
    "X_train, X_test, y_train, y_test = train_test_split(X, y, stratify=y, test_size=0.3, random_state=19, shuffle=True)\n",
    "X_train.shape, X_test.shape, y_train.shape, y_test.shape\n",
    "'''\n",
    "\n",
    "#s002\n",
    "index_train1 = [i for i in range(200)]    #s002\n",
    "index_train2 = [i+400 for i in range(50)] #s032\n",
    "index_train3 = [i+800 for i in range(50)] #s036\n",
    "index_train4 = [i+1200 for i in range(50)] #s047\n",
    "index_train5 = [i+1600 for i in range(50)] #s052\n",
    "\n",
    "index_test1 = [i+200 for i in range(200)] #s002\n",
    "index_test2 = [i+450 for i in range(350)]  #s032\n",
    "index_test3 = [i+850 for i in range(350)]  #s036\n",
    "index_test4 = [i+1250 for i in range(350)]  #s047\n",
    "index_test5 = [i+1650 for i in range(350)]  #s052\n",
    "\n",
    "'''\n",
    "#s032\n",
    "index_train1 = [i+100 for i in range(200)] #s032\n",
    "index_train2 = [i for i in range(50)] #s002\n",
    "index_train3 = [i+500 for i in range(50)] #s036\n",
    "index_train4 = [i+600 for i in range(50)] #s047\n",
    "index_train5 = [i+700 for i in range(50)] #s052\n",
    "\n",
    "index_test1 = [i+300 for i in range(200)] #s032\n",
    "index_test2 = [i+50 for i in range(50)]  #s002\n",
    "index_test3 = [i+550 for i in range(50)]  #s036\n",
    "index_test4 = [i+650 for i in range(50)]  #s047\n",
    "index_test5 = [i+750 for i in range(50)]  #s052\n",
    "'''\n",
    "\n",
    "'''\n",
    "#s036\n",
    "index_train1 = [i+200 for i in range(200)] #s036\n",
    "index_train2 = [i for i in range(50)] #s002\n",
    "index_train3 = [i+100 for i in range(50)] #s032\n",
    "index_train4 = [i+600 for i in range(50)] #s047\n",
    "index_train5 = [i+700 for i in range(50)] #s052\n",
    "\n",
    "index_test1 = [i+400 for i in range(200)] #s036\n",
    "index_test2 = [i+50 for i in range(50)]  #s002\n",
    "index_test3 = [i+150 for i in range(50)]  #s032\n",
    "index_test4 = [i+650 for i in range(50)]  #s047\n",
    "index_test5 = [i+750 for i in range(50)]  #s052\n",
    "'''\n",
    "'''\n",
    "#s047\n",
    "index_train1 = [i+300 for i in range(200)] #s047\n",
    "index_train2 = [i for i in range(50)] #s002\n",
    "index_train3 = [i+100 for i in range(50)] #s032\n",
    "index_train4 = [i+200 for i in range(50)] #s036\n",
    "index_train5 = [i+700 for i in range(50)] #s052\n",
    "\n",
    "index_test1 = [i+500 for i in range(200)] #s047\n",
    "index_test2 = [i+50 for i in range(50)]  #s002\n",
    "index_test3 = [i+150 for i in range(50)]  #s032\n",
    "index_test4 = [i+250 for i in range(50)]  #s036\n",
    "index_test5 = [i+750 for i in range(50)]  #s052\n",
    "'''\n",
    "'''\n",
    "#s052\n",
    "index_train1 = [i+400 for i in range(200)] #s052\n",
    "index_train2 = [i for i in range(50)] #s002\n",
    "index_train3 = [i+100 for i in range(50)] #s032\n",
    "index_train4 = [i+200 for i in range(50)] #s036\n",
    "index_train5 = [i+300 for i in range(50)] #s047\n",
    "\n",
    "index_test1 = [i+600 for i in range(200)] #s052\n",
    "index_test2 = [i+50 for i in range(50)]  #s002\n",
    "index_test3 = [i+150 for i in range(50)]  #s032\n",
    "index_test4 = [i+250 for i in range(50)]  #s036\n",
    "index_test5 = [i+350 for i in range(50)]  #s047\n",
    "'''\n",
    "\n",
    "index_train = index_train1 + index_train2 + index_train3 + index_train4 + index_train5\n",
    "index_test = index_test1 + index_test2 + index_test3 + index_test4 + index_test5\n",
    "\n",
    "X_train = X.iloc[index_train]\n",
    "X_test = X.iloc[index_test]\n",
    "y_train = y[index_train]\n",
    "y_test = y[index_test]"
   ]
  },
  {
   "cell_type": "markdown",
   "metadata": {},
   "source": [
    "度量选择（AUC）"
   ]
  },
  {
   "cell_type": "code",
   "execution_count": 14,
   "metadata": {},
   "outputs": [],
   "source": [
    "from sklearn.metrics import make_scorer, roc_auc_score\n",
    "from sklearn.preprocessing import LabelBinarizer\n",
    "\n",
    "def custom_multi_roc_auc_score(y_true, y_pred, avg='macro'):\n",
    "\n",
    "    lb = LabelBinarizer()\n",
    "    return roc_auc_score(lb.fit_transform(y_true), y_pred, average=avg)\n",
    "\n",
    "multi_roc_auc_scorer = make_scorer(custom_multi_roc_auc_score, needs_proba=True)"
   ]
  },
  {
   "cell_type": "markdown",
   "metadata": {},
   "source": [
    "设置交叉验证，选择分类模型的参数"
   ]
  },
  {
   "cell_type": "code",
   "execution_count": 15,
   "metadata": {},
   "outputs": [],
   "source": [
    "from sklearn.model_selection import GridSearchCV, StratifiedKFold\n",
    "strtf_cv = StratifiedKFold(n_splits=4, random_state=17)\n",
    "\n",
    "def plot_cv_results(grid, param='param_n_neighbors', scale='linear'):\n",
    "    '''\n",
    "    This function plots gridsearch results for given grid search object. It can only plot \n",
    "    results for one parameter (default parameter is C).\n",
    "    '''\n",
    "    plt.figure(figsize=(10,6))\n",
    "    plt.plot(grid.cv_results_[param].tolist(), grid.cv_results_['mean_train_score'], label='Train Score')\n",
    "    plt.fill_between(grid.cv_results_[param].tolist(), \n",
    "                     grid.cv_results_['mean_train_score'] - grid.cv_results_['std_train_score']/2, \n",
    "                     grid.cv_results_['mean_train_score'] + grid.cv_results_['std_train_score']/2, \n",
    "                     alpha=.3)\n",
    "    plt.plot(grid.cv_results_[param].tolist(), grid.cv_results_['mean_test_score'], label='Validation Score')\n",
    "    plt.fill_between(grid.cv_results_[param].tolist(), \n",
    "                     grid.cv_results_['mean_test_score'] - grid.cv_results_['std_test_score']/2, \n",
    "                     grid.cv_results_['mean_test_score'] + grid.cv_results_['std_test_score']/2, \n",
    "                     alpha=.3)\n",
    "    plt.ylabel('ROC AUC')\n",
    "    plt.xlabel(param.strip('param_'))\n",
    "    plt.title('Validation Curve')\n",
    "    plt.legend()\n",
    "    plt.xscale(scale)\n",
    "    plt.show()"
   ]
  },
  {
   "cell_type": "markdown",
   "metadata": {},
   "source": [
    "KNN分类器"
   ]
  },
  {
   "cell_type": "code",
   "execution_count": 16,
   "metadata": {},
   "outputs": [],
   "source": [
    "from sklearn.neighbors import KNeighborsClassifier\n",
    "\n",
    "knn_clf = KNeighborsClassifier(n_jobs=-1)\n",
    "\n",
    "knn_params = {\n",
    "    'n_neighbors': list(np.arange(1, 10)) + list(np.linspace(10,180, 15, dtype=int))\n",
    "}\n",
    "\n",
    "knn_grid = GridSearchCV(knn_clf, param_grid=knn_params, n_jobs=-1, scoring=multi_roc_auc_scorer, cv=strtf_cv)\n"
   ]
  },
  {
   "cell_type": "code",
   "execution_count": 17,
   "metadata": {},
   "outputs": [
    {
     "name": "stdout",
     "output_type": "stream",
     "text": [
      "ROC AUC的最佳值: 0.7892\n",
      "最佳参数: {'n_neighbors': 8}\n",
      "Wall time: 10.5 s\n"
     ]
    }
   ],
   "source": [
    "%%time\n",
    "knn_grid.fit(X_train, y_train)\n",
    "print('ROC AUC的最佳值:', knn_grid.best_score_)\n",
    "print('最佳参数:', knn_grid.best_params_)"
   ]
  },
  {
   "cell_type": "code",
   "execution_count": 43,
   "metadata": {},
   "outputs": [],
   "source": [
    "#检查模型的质量（ROC AUC）的延迟数据\n",
    "#custom_multi_roc_auc_score(y_test, knn_grid.best_estimator_.predict_proba(X_test))\n",
    "y_score_KNN1=knn_grid.best_estimator_.predict(X_test)\n",
    "ann_fileName = \"KNN1_best\"+object_user+\"_CMU_pred.txt\"\n",
    "np.savetxt(ann_fileName, np.array(y_score_KNN1))"
   ]
  },
  {
   "cell_type": "code",
   "execution_count": 21,
   "metadata": {},
   "outputs": [
    {
     "data": {
      "image/png": "[encoded data removed]",
      "text/plain": [
       "<Figure size 432x288 with 1 Axes>"
      ]
     },
     "metadata": {
      "needs_background": "light"
     },
     "output_type": "display_data"
    }
   ],
   "source": [
    "from sklearn.metrics import roc_curve, auc\n",
    "from scipy import interp\n",
    "from itertools import cycle\n",
    "\n",
    "fpr, tpr, _ = roc_curve(y_test, y_score)\n",
    "roc_auc = auc(fpr, tpr)\n",
    "\n",
    "plt.figure()\n",
    "lw = 2\n",
    "plt.plot(fpr, tpr, color='darkorange',\n",
    "         lw=lw, label='ROC curve (area = %0.2f)' % roc_auc)\n",
    "plt.plot([0, 1], [0, 1], color='navy', lw=lw, linestyle='--')\n",
    "plt.xlim([0.0, 1.0])\n",
    "plt.ylim([0.0, 1.05])\n",
    "plt.xlabel('False Positive Rate')\n",
    "plt.ylabel('True Positive Rate')\n",
    "plt.title('Receiver operating characteristic example')\n",
    "plt.legend(loc=\"lower right\")\n",
    "plt.show()\n",
    "\n"
   ]
  },
  {
   "cell_type": "markdown",
   "metadata": {},
   "source": [
    "改变了曼哈顿的距离的度量"
   ]
  },
  {
   "cell_type": "code",
   "execution_count": 36,
   "metadata": {},
   "outputs": [],
   "source": [
    "knn_clf = KNeighborsClassifier(p=1, n_jobs=-1)\n",
    "\n",
    "knn_params = {\n",
    "    'n_neighbors': list(np.arange(1, 10)) + list(np.linspace(10, 180, 15, dtype=int))   \n",
    "}\n",
    "\n",
    "knn_grid_manhattan = GridSearchCV(knn_clf, param_grid=knn_params, n_jobs=-1, scoring=multi_roc_auc_scorer, cv=strtf_cv)\n"
   ]
  },
  {
   "cell_type": "code",
   "execution_count": 37,
   "metadata": {},
   "outputs": [
    {
     "name": "stdout",
     "output_type": "stream",
     "text": [
      "ROC AUC的最佳值: 0.76185\n",
      "最佳参数: {'n_neighbors': 10}\n",
      "Wall time: 10.5 s\n"
     ]
    }
   ],
   "source": [
    "%%time\n",
    "knn_grid_manhattan.fit(X_train, y_train)\n",
    "print('ROC AUC的最佳值:', knn_grid_manhattan.best_score_)\n",
    "print('最佳参数:', knn_grid_manhattan.best_params_)"
   ]
  },
  {
   "cell_type": "code",
   "execution_count": 24,
   "metadata": {},
   "outputs": [
    {
     "name": "stderr",
     "output_type": "stream",
     "text": [
      "c:\\users\\jw\\anaconda3\\lib\\site-packages\\sklearn\\utils\\deprecation.py:125: FutureWarning: You are accessing a training score ('mean_train_score'), which will not be available by default any more in 0.21. If you need training scores, please set return_train_score=True\n",
      "  warnings.warn(*warn_args, **warn_kwargs)\n",
      "c:\\users\\jw\\anaconda3\\lib\\site-packages\\sklearn\\utils\\deprecation.py:125: FutureWarning: You are accessing a training score ('std_train_score'), which will not be available by default any more in 0.21. If you need training scores, please set return_train_score=True\n",
      "  warnings.warn(*warn_args, **warn_kwargs)\n"
     ]
    },
    {
     "data": {
      "image/png": "[encoded data removed]",
      "text/plain": [
       "<Figure size 720x432 with 1 Axes>"
      ]
     },
     "metadata": {
      "needs_background": "light"
     },
     "output_type": "display_data"
    }
   ],
   "source": [
    "#plot_cv_results(knn_grid_manhattan, param='param_n_neighbors')"
   ]
  },
  {
   "cell_type": "code",
   "execution_count": 42,
   "metadata": {},
   "outputs": [],
   "source": [
    "y_score_KNN2=knn_grid_manhattan.best_estimator_.predict(X_test)\n",
    "ann_fileName = \"KNN2_best\"+object_user+\"_CMU_pred.txt\"\n",
    "np.savetxt(ann_fileName, np.array(y_score_KNN2))"
   ]
  },
  {
   "cell_type": "code",
   "execution_count": 59,
   "metadata": {},
   "outputs": [],
   "source": [
    "#检查模型的质量（ROC AUC）的延迟数据\n",
    "#custom_multi_roc_auc_score(y_test, knn_grid_manhattan.best_estimator_.predict_proba(X_test))"
   ]
  },
  {
   "cell_type": "markdown",
   "metadata": {},
   "source": [
    "SVM2"
   ]
  },
  {
   "cell_type": "code",
   "execution_count": 31,
   "metadata": {},
   "outputs": [
    {
     "name": "stderr",
     "output_type": "stream",
     "text": [
      "c:\\users\\jw\\anaconda3\\lib\\site-packages\\sklearn\\svm\\base.py:196: FutureWarning: The default value of gamma will change from 'auto' to 'scale' in version 0.22 to account better for unscaled features. Set gamma explicitly to 'auto' or 'scale' to avoid this warning.\n",
      "  \"avoid this warning.\", FutureWarning)\n",
      "c:\\users\\jw\\anaconda3\\lib\\site-packages\\sklearn\\svm\\base.py:196: FutureWarning: The default value of gamma will change from 'auto' to 'scale' in version 0.22 to account better for unscaled features. Set gamma explicitly to 'auto' or 'scale' to avoid this warning.\n",
      "  \"avoid this warning.\", FutureWarning)\n",
      "c:\\users\\jw\\anaconda3\\lib\\site-packages\\sklearn\\svm\\base.py:196: FutureWarning: The default value of gamma will change from 'auto' to 'scale' in version 0.22 to account better for unscaled features. Set gamma explicitly to 'auto' or 'scale' to avoid this warning.\n",
      "  \"avoid this warning.\", FutureWarning)\n",
      "c:\\users\\jw\\anaconda3\\lib\\site-packages\\sklearn\\svm\\base.py:196: FutureWarning: The default value of gamma will change from 'auto' to 'scale' in version 0.22 to account better for unscaled features. Set gamma explicitly to 'auto' or 'scale' to avoid this warning.\n",
      "  \"avoid this warning.\", FutureWarning)\n",
      "c:\\users\\jw\\anaconda3\\lib\\site-packages\\sklearn\\svm\\base.py:196: FutureWarning: The default value of gamma will change from 'auto' to 'scale' in version 0.22 to account better for unscaled features. Set gamma explicitly to 'auto' or 'scale' to avoid this warning.\n",
      "  \"avoid this warning.\", FutureWarning)\n",
      "c:\\users\\jw\\anaconda3\\lib\\site-packages\\sklearn\\svm\\base.py:196: FutureWarning: The default value of gamma will change from 'auto' to 'scale' in version 0.22 to account better for unscaled features. Set gamma explicitly to 'auto' or 'scale' to avoid this warning.\n",
      "  \"avoid this warning.\", FutureWarning)\n",
      "c:\\users\\jw\\anaconda3\\lib\\site-packages\\sklearn\\svm\\base.py:196: FutureWarning: The default value of gamma will change from 'auto' to 'scale' in version 0.22 to account better for unscaled features. Set gamma explicitly to 'auto' or 'scale' to avoid this warning.\n",
      "  \"avoid this warning.\", FutureWarning)\n",
      "c:\\users\\jw\\anaconda3\\lib\\site-packages\\sklearn\\svm\\base.py:196: FutureWarning: The default value of gamma will change from 'auto' to 'scale' in version 0.22 to account better for unscaled features. Set gamma explicitly to 'auto' or 'scale' to avoid this warning.\n",
      "  \"avoid this warning.\", FutureWarning)\n",
      "c:\\users\\jw\\anaconda3\\lib\\site-packages\\sklearn\\svm\\base.py:196: FutureWarning: The default value of gamma will change from 'auto' to 'scale' in version 0.22 to account better for unscaled features. Set gamma explicitly to 'auto' or 'scale' to avoid this warning.\n",
      "  \"avoid this warning.\", FutureWarning)\n",
      "c:\\users\\jw\\anaconda3\\lib\\site-packages\\sklearn\\svm\\base.py:196: FutureWarning: The default value of gamma will change from 'auto' to 'scale' in version 0.22 to account better for unscaled features. Set gamma explicitly to 'auto' or 'scale' to avoid this warning.\n",
      "  \"avoid this warning.\", FutureWarning)\n",
      "c:\\users\\jw\\anaconda3\\lib\\site-packages\\sklearn\\svm\\base.py:196: FutureWarning: The default value of gamma will change from 'auto' to 'scale' in version 0.22 to account better for unscaled features. Set gamma explicitly to 'auto' or 'scale' to avoid this warning.\n",
      "  \"avoid this warning.\", FutureWarning)\n",
      "c:\\users\\jw\\anaconda3\\lib\\site-packages\\sklearn\\svm\\base.py:196: FutureWarning: The default value of gamma will change from 'auto' to 'scale' in version 0.22 to account better for unscaled features. Set gamma explicitly to 'auto' or 'scale' to avoid this warning.\n",
      "  \"avoid this warning.\", FutureWarning)\n",
      "c:\\users\\jw\\anaconda3\\lib\\site-packages\\sklearn\\svm\\base.py:196: FutureWarning: The default value of gamma will change from 'auto' to 'scale' in version 0.22 to account better for unscaled features. Set gamma explicitly to 'auto' or 'scale' to avoid this warning.\n",
      "  \"avoid this warning.\", FutureWarning)\n",
      "c:\\users\\jw\\anaconda3\\lib\\site-packages\\sklearn\\svm\\base.py:196: FutureWarning: The default value of gamma will change from 'auto' to 'scale' in version 0.22 to account better for unscaled features. Set gamma explicitly to 'auto' or 'scale' to avoid this warning.\n",
      "  \"avoid this warning.\", FutureWarning)\n",
      "c:\\users\\jw\\anaconda3\\lib\\site-packages\\sklearn\\svm\\base.py:196: FutureWarning: The default value of gamma will change from 'auto' to 'scale' in version 0.22 to account better for unscaled features. Set gamma explicitly to 'auto' or 'scale' to avoid this warning.\n",
      "  \"avoid this warning.\", FutureWarning)\n",
      "c:\\users\\jw\\anaconda3\\lib\\site-packages\\sklearn\\svm\\base.py:196: FutureWarning: The default value of gamma will change from 'auto' to 'scale' in version 0.22 to account better for unscaled features. Set gamma explicitly to 'auto' or 'scale' to avoid this warning.\n",
      "  \"avoid this warning.\", FutureWarning)\n",
      "c:\\users\\jw\\anaconda3\\lib\\site-packages\\sklearn\\svm\\base.py:196: FutureWarning: The default value of gamma will change from 'auto' to 'scale' in version 0.22 to account better for unscaled features. Set gamma explicitly to 'auto' or 'scale' to avoid this warning.\n",
      "  \"avoid this warning.\", FutureWarning)\n",
      "c:\\users\\jw\\anaconda3\\lib\\site-packages\\sklearn\\svm\\base.py:196: FutureWarning: The default value of gamma will change from 'auto' to 'scale' in version 0.22 to account better for unscaled features. Set gamma explicitly to 'auto' or 'scale' to avoid this warning.\n",
      "  \"avoid this warning.\", FutureWarning)\n",
      "c:\\users\\jw\\anaconda3\\lib\\site-packages\\sklearn\\svm\\base.py:196: FutureWarning: The default value of gamma will change from 'auto' to 'scale' in version 0.22 to account better for unscaled features. Set gamma explicitly to 'auto' or 'scale' to avoid this warning.\n",
      "  \"avoid this warning.\", FutureWarning)\n",
      "c:\\users\\jw\\anaconda3\\lib\\site-packages\\sklearn\\svm\\base.py:196: FutureWarning: The default value of gamma will change from 'auto' to 'scale' in version 0.22 to account better for unscaled features. Set gamma explicitly to 'auto' or 'scale' to avoid this warning.\n",
      "  \"avoid this warning.\", FutureWarning)\n",
      "c:\\users\\jw\\anaconda3\\lib\\site-packages\\sklearn\\svm\\base.py:196: FutureWarning: The default value of gamma will change from 'auto' to 'scale' in version 0.22 to account better for unscaled features. Set gamma explicitly to 'auto' or 'scale' to avoid this warning.\n",
      "  \"avoid this warning.\", FutureWarning)\n",
      "c:\\users\\jw\\anaconda3\\lib\\site-packages\\sklearn\\svm\\base.py:196: FutureWarning: The default value of gamma will change from 'auto' to 'scale' in version 0.22 to account better for unscaled features. Set gamma explicitly to 'auto' or 'scale' to avoid this warning.\n",
      "  \"avoid this warning.\", FutureWarning)\n",
      "c:\\users\\jw\\anaconda3\\lib\\site-packages\\sklearn\\svm\\base.py:196: FutureWarning: The default value of gamma will change from 'auto' to 'scale' in version 0.22 to account better for unscaled features. Set gamma explicitly to 'auto' or 'scale' to avoid this warning.\n",
      "  \"avoid this warning.\", FutureWarning)\n",
      "c:\\users\\jw\\anaconda3\\lib\\site-packages\\sklearn\\svm\\base.py:196: FutureWarning: The default value of gamma will change from 'auto' to 'scale' in version 0.22 to account better for unscaled features. Set gamma explicitly to 'auto' or 'scale' to avoid this warning.\n",
      "  \"avoid this warning.\", FutureWarning)\n"
     ]
    },
    {
     "name": "stdout",
     "output_type": "stream",
     "text": [
      "Attrabutes:vvvvvvvvvvvvvvvvvvvvvvvvvvvvvvvvvvvvvvvvvv\n",
      "cv_results_: dict_keys(['mean_fit_time', 'std_fit_time', 'mean_score_time', 'std_score_time', 'param_C', 'param_kernel', 'param_degree', 'param_gamma', 'params', 'split0_test_score', 'split1_test_score', 'split2_test_score', 'split3_test_score', 'mean_test_score', 'std_test_score', 'rank_test_score', 'split0_train_score', 'split1_train_score', 'split2_train_score', 'split3_train_score', 'mean_train_score', 'std_train_score'])\n",
      "Desc: {'C': 100, 'kernel': 'linear'} 0.9891666666666667 0.7975 12\n",
      "best_estimator_: SVC(C=100, cache_size=200, class_weight=None, coef0=0.0,\n",
      "  decision_function_shape='ovr', degree=3, gamma=0.001, kernel='rbf',\n",
      "  max_iter=-1, probability=True, random_state=None, shrinking=True,\n",
      "  tol=0.001, verbose=False)\n",
      "best_params_: {'C': 100, 'gamma': 0.001, 'kernel': 'rbf'}\n",
      "best_params_: {'C': 100, 'gamma': 0.001, 'kernel': 'rbf'}\n",
      "best_score_: 0.8375\n",
      "scorer_: <function _passthrough_scorer at 0x000001FF846BF378>\n",
      "n_splits_: 4\n"
     ]
    }
   ],
   "source": [
    "import numpy as np\n",
    "import sklearn.model_selection as ms\n",
    "import sklearn.svm as svm\n",
    "import sklearn.metrics as sm\n",
    "import matplotlib.pyplot as plt\n",
    "\n",
    "# 最优超参数组合列表\n",
    "params = [\n",
    "        {'kernel': ['linear'], 'C': [1, 10, 100, 100,1000]},\n",
    "        {'kernel': ['poly'], 'C': [1,10,100], 'degree': [2, 3]},\n",
    "        {'kernel': ['rbf'], 'C': [1, 10, 100, 100,1000], 'gamma':[1, 0.1, 0.01, 0.001]}\n",
    "        ]\n",
    "\n",
    "model = ms.GridSearchCV(svm.SVC(probability=True), \n",
    "                        params, \n",
    "                        refit=True,\n",
    "                        return_train_score=True,        # 后续版本需要指定True才有score方法  \n",
    "                        cv=4)\n",
    "model.fit(X_train, y_train)\n",
    "\n",
    "# GridSearchCV的属性\n",
    "print('Attrabutes:vvvvvvvvvvvvvvvvvvvvvvvvvvvvvvvvvvvvvvvvvv')\n",
    "print('cv_results_:',model.cv_results_.keys())\n",
    "print('Desc:',model.cv_results_['params'][2], model.cv_results_['mean_train_score'][2], \n",
    "      model.cv_results_['mean_test_score'][2],model.cv_results_['rank_test_score'][2])\n",
    "print('best_estimator_:',model.best_estimator_) \n",
    "print('best_params_:',model.best_params_) \n",
    "print('best_params_:', model.cv_results_['params'][model.best_index_])\n",
    "print('best_score_:',model.best_score_)\n",
    "print('scorer_:',model.scorer_)\n",
    "print('n_splits_:',model.n_splits_)"
   ]
  },
  {
   "cell_type": "code",
   "execution_count": 41,
   "metadata": {},
   "outputs": [],
   "source": [
    "y_predict_SVM = model.best_estimator_.predict(X_test)\n",
    "ann_fileName = \"SVM_best\"+object_user+\"_CMU_pred.txt\"\n",
    "np.savetxt(ann_fileName, np.array(y_predict_SVM))"
   ]
  },
  {
   "cell_type": "markdown",
   "metadata": {},
   "source": [
    "神经网络"
   ]
  },
  {
   "cell_type": "code",
   "execution_count": 42,
   "metadata": {},
   "outputs": [
    {
     "name": "stderr",
     "output_type": "stream",
     "text": [
      "c:\\users\\jw\\anaconda3\\lib\\site-packages\\sklearn\\model_selection\\_split.py:2053: FutureWarning: You should specify a value for 'cv' instead of relying on the default value. The default value will change from 3 to 5 in version 0.22.\n",
      "  warnings.warn(CV_WARNING, FutureWarning)\n"
     ]
    },
    {
     "name": "stdout",
     "output_type": "stream",
     "text": [
      "dict_keys(['cv', 'error_score', 'estimator__activation', 'estimator__alpha', 'estimator__batch_size', 'estimator__beta_1', 'estimator__beta_2', 'estimator__early_stopping', 'estimator__epsilon', 'estimator__hidden_layer_sizes', 'estimator__learning_rate', 'estimator__learning_rate_init', 'estimator__max_iter', 'estimator__momentum', 'estimator__n_iter_no_change', 'estimator__nesterovs_momentum', 'estimator__power_t', 'estimator__random_state', 'estimator__shuffle', 'estimator__solver', 'estimator__tol', 'estimator__validation_fraction', 'estimator__verbose', 'estimator__warm_start', 'estimator', 'fit_params', 'iid', 'n_jobs', 'param_grid', 'pre_dispatch', 'refit', 'return_train_score', 'scoring', 'verbose'])\n",
      "{'hidden_layer_sizes': (64,), 'max_iter': 1000, 'solver': 'lbfgs', 'verbose': True}\n"
     ]
    },
    {
     "name": "stderr",
     "output_type": "stream",
     "text": [
      "c:\\users\\jw\\anaconda3\\lib\\site-packages\\sklearn\\model_selection\\_search.py:841: DeprecationWarning: The default of the `iid` parameter will change from True to False in version 0.22 and will be removed in 0.24. This will change numeric results when test-set sizes are unequal.\n",
      "  DeprecationWarning)\n"
     ]
    }
   ],
   "source": [
    "from sklearn.neural_network import MLPClassifier\n",
    "from sklearn.model_selection import GridSearchCV\n",
    "import numpy as np\n",
    "import pickle\n",
    "import gzip\n",
    "import matplotlib.pyplot as plt\n",
    "\n",
    "mlp_clf__tuned_parameters = {\"hidden_layer_sizes\": [(40,),(40,32),(64,),(64,32),(140,),(140,128),(140,32), (140,64),(140,64,32), (256,)],\n",
    "                             \"solver\": ['adam', 'sgd', 'lbfgs'],\n",
    "                             \"max_iter\": [20,100,200,1000,5000],\n",
    "                             \"verbose\": [True]\n",
    "                             }\n",
    "mlp = MLPClassifier()\n",
    "estimator = GridSearchCV(mlp, mlp_clf__tuned_parameters, n_jobs=6)\n",
    "estimator.fit(X_train, y_train)\n",
    "\n",
    "print(estimator.get_params().keys()) \n",
    "print (estimator.best_params_)"
   ]
  },
  {
   "cell_type": "code",
   "execution_count": 40,
   "metadata": {},
   "outputs": [],
   "source": [
    "y_predict = model.best_estimator_.predict(X_test)\n",
    "ann_fileName = \"ANN_best\"+object_user+\"_CMU_pred.txt\"\n",
    "np.savetxt(ann_fileName, np.array(y_predict))"
   ]
  },
  {
   "cell_type": "code",
   "execution_count": 34,
   "metadata": {},
   "outputs": [
    {
     "name": "stdout",
     "output_type": "stream",
     "text": [
      "kfold-------\n",
      "in_sample_error: \n",
      "[0.0, 0.0, 0.0, 0.0]\n",
      "test_set_error: \n",
      "[0.19625000000000004, 0.19625000000000004, 0.19625000000000004, 0.19625000000000004]\n",
      "test_score：0.80375\n",
      "test_error：0.19625000000000004\n"
     ]
    }
   ],
   "source": [
    "# two-layer neural network \n",
    "# train part\n",
    "import numpy as np\n",
    "from sklearn.neural_network import MLPClassifier\n",
    "from sklearn.model_selection import KFold\n",
    "from joblib import dump\n",
    "\n",
    "#neural network classifier of structure (3,2)\n",
    "kf = KFold(n_splits=4) # 3-fold cross-validation\n",
    "best_clf = None\n",
    "best_score = 0\n",
    "train_scores = []\n",
    "test_scores = []\n",
    "print(\"kfold-------\")\n",
    "for train_index, test_index in kf.split(X):\n",
    "    # create neural network using MLPClassifer  {sgd,lbfgs, adam}\n",
    "    clf = MLPClassifier(solver = 'lbfgs', max_iter = 1000, hidden_layer_sizes = (64,),random_state = 1)\n",
    "    #X_train, X_test = X[train_index], X[test_index]\n",
    "    #y_train, y_test = y[train_index], y[test_index]\n",
    "    clf.fit(X_train, y_train)\n",
    "    train_score = clf.score(X_train, y_train)\n",
    "    train_scores.append(train_score)\n",
    " \n",
    "    test_score = clf.score(X_test, y_test)\n",
    "    test_scores.append(test_score)\n",
    "\n",
    "    #compare score of the tree models and get the best one\n",
    "    if test_score > best_score:\n",
    "        best_score = test_score\n",
    "        best_clf = clf\n",
    "    \n",
    "    #print(clf.n_outputs_)\n",
    "in_sample_error = [1 - score for score in train_scores]\n",
    "test_set_error = [1 - score for score in test_scores]\n",
    "print(\"in_sample_error: \")\n",
    "print(in_sample_error)\n",
    "print(\"test_set_error: \")\n",
    "print(test_set_error)\n",
    "\n",
    "#store the classifier\n",
    "if best_clf != None:\n",
    "    dump(best_clf, \"train_model.m\")\n",
    "    \n",
    "from joblib import load\n",
    "clf = load(\"train_model.m\")\n",
    "y_pred = clf.predict(X_test)\n",
    "np.savetxt(\"label_pred.txt\", np.array(y_pred)) #save predict result\n",
    "#print(y_pred)\n",
    "test_score = clf.score(X_test, y_test)\n",
    "test_error = 1 - test_score\n",
    "print('test_score：%s' % test_score)\n",
    "print('test_error：%s' % test_error)"
   ]
  },
  {
   "cell_type": "code",
   "execution_count": 39,
   "metadata": {},
   "outputs": [],
   "source": [
    "ann_fileName = \"ANN_\"+object_user+\"_CMU_pred.txt\"\n",
    "np.savetxt(ann_fileName, np.array(y_pred))"
   ]
  },
  {
   "cell_type": "code",
   "execution_count": null,
   "metadata": {},
   "outputs": [],
   "source": []
  }
 ],
 "metadata": {
  "kernelspec": {
   "display_name": "Python 3",
   "language": "python",
   "name": "python3"
  },
  "language_info": {
   "codemirror_mode": {
    "name": "ipython",
    "version": 3
   },
   "file_extension": ".py",
   "mimetype": "text/x-python",
   "name": "python",
   "nbconvert_exporter": "python",
   "pygments_lexer": "ipython3",
   "version": "3.6.5"
  }
 },
 "nbformat": 4,
 "nbformat_minor": 2
}
