{
 "cells": [
  {
   "cell_type": "code",
   "execution_count": 7,
   "metadata": {},
   "outputs": [],
   "source": [
    "from pandas import DataFrame\n",
    "import pandas as pd\n",
    "import numpy as np\n",
    "import json\n",
    "import os\n",
    "\n",
    "path = './result/compare2/non-param-real/'\n",
    "\n",
    "userlist = ['s002','s032','s036','s047','s052']\n",
    "\n",
    "filename_list = ['0']*len(userlist)\n",
    "\n",
    "def filename(user,start_line,end_line):\n",
    "    return path +'non'+ user + '_'+str(start_line) + '_' + str(end_line) + '.json'\n",
    "\n",
    "def open_json(param_filename):\n",
    "    if not os.path.exists(param_filename):\n",
    "        raise FileNotFoundError(\n",
    "            'Input file `{:s}` not found.'.format(param_filename))\n",
    "    with open(param_filename, 'r') as param_file:\n",
    "        param_dict = json.load(param_file)\n",
    "    return param_dict\n",
    "\n",
    "data_list = []\n",
    "columns1 = []\n",
    "columns2 = ['user', 'session']\n",
    "\n",
    "for i,user in enumerate(userlist):    #其他用户用前50行数据做测试数据\n",
    "    for k in range(400):          \n",
    "        param_filename = filename(user,k,k+1)\n",
    "        data_file = open_json(param_filename)\n",
    "\n",
    "        adjacency = data_file['vi_exp']['adjacency']\n",
    "        mu = data_file['vi_exp']['mu']\n",
    "        vector = np.concatenate((adjacency,mu))\n",
    "        vector = np.clip(vector, 1.0e-08, 10)\n",
    "        #print(vector)\n",
    "        vector = np.append(vector,user)\n",
    "        vector = np.append(vector,str(k))\n",
    "\n",
    "        #print(vector)\n",
    "        #print(user)\n",
    "        data_list.append(vector)\n",
    "        \n",
    "#print(data_list)\n",
    "\n",
    "for i in range(len(adjacency)):\n",
    "    columns1.append('adj'+str(i))\n",
    "for j in range(len(mu)):\n",
    "    columns1.append('mu'+str(j))\n",
    "\n",
    "df = pd.DataFrame(data_list)\n",
    "df.columns = columns1 + columns2\n",
    "\n",
    "df.to_csv('./data/CMU_non_para_output_real.csv')"
   ]
  },
  {
   "cell_type": "code",
   "execution_count": 6,
   "metadata": {},
   "outputs": [
    {
     "data": {
      "text/plain": [
       "'mu10'"
      ]
     },
     "execution_count": 6,
     "metadata": {},
     "output_type": "execute_result"
    }
   ],
   "source": [
    "columns1[-1]"
   ]
  },
  {
   "cell_type": "code",
   "execution_count": 4,
   "metadata": {},
   "outputs": [],
   "source": [
    "from pandas import DataFrame\n",
    "import pandas as pd\n",
    "import numpy as np\n",
    "import json\n",
    "import os\n",
    "\n",
    "fileName = './data/DSL-StrongPasswordData.xls'\n",
    "df_oral = pd.read_excel(fileName)\n",
    "df_oral = df_oral[(df_oral['subject']== 's002') | (df_oral['subject']== 's032') | (df_oral['subject']== 's036') | (df_oral['subject']== 's047') | (df_oral['subject']== 's052')] \n",
    "df_oral.to_excel('./data/CMU_oral_output.xls')"
   ]
  },
  {
   "cell_type": "code",
   "execution_count": null,
   "metadata": {},
   "outputs": [],
   "source": []
  }
 ],
 "metadata": {
  "kernelspec": {
   "display_name": "Python 3",
   "language": "python",
   "name": "python3"
  },
  "language_info": {
   "codemirror_mode": {
    "name": "ipython",
    "version": 3
   },
   "file_extension": ".py",
   "mimetype": "text/x-python",
   "name": "python",
   "nbconvert_exporter": "python",
   "pygments_lexer": "ipython3",
   "version": "3.6.7"
  }
 },
 "nbformat": 4,
 "nbformat_minor": 2
}
