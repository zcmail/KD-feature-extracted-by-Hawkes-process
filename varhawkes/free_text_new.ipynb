{
 "cells": [
  {
   "cell_type": "markdown",
   "metadata": {},
   "source": [
    "#转换数据，计算累积时间"
   ]
  },
  {
   "cell_type": "code",
   "execution_count": 23,
   "metadata": {},
   "outputs": [],
   "source": [
    "import pandas as pd\n",
    "import numpy as np\n",
    "\n",
    "fileName = './data/DD.xls'\n",
    "df_oral = pd.read_excel(fileName)\n",
    "#过滤等待时间太长的间隔outlier\n",
    "#df_oral = df_oral.loc[df_oral['time']<1]"
   ]
  },
  {
   "cell_type": "code",
   "execution_count": 2,
   "metadata": {},
   "outputs": [
    {
     "data": {
      "text/html": [
       "<div>\n",
       "<style scoped>\n",
       "    .dataframe tbody tr th:only-of-type {\n",
       "        vertical-align: middle;\n",
       "    }\n",
       "\n",
       "    .dataframe tbody tr th {\n",
       "        vertical-align: top;\n",
       "    }\n",
       "\n",
       "    .dataframe thead th {\n",
       "        text-align: right;\n",
       "    }\n",
       "</style>\n",
       "<table border=\"1\" class=\"dataframe\">\n",
       "  <thead>\n",
       "    <tr style=\"text-align: right;\">\n",
       "      <th></th>\n",
       "      <th>subject</th>\n",
       "      <th>sessionIndex</th>\n",
       "      <th>screenIndex</th>\n",
       "      <th>index</th>\n",
       "      <th>key1</th>\n",
       "      <th>key2</th>\n",
       "      <th>time</th>\n",
       "    </tr>\n",
       "  </thead>\n",
       "  <tbody>\n",
       "    <tr>\n",
       "      <th>0</th>\n",
       "      <td>s019</td>\n",
       "      <td>1</td>\n",
       "      <td>3</td>\n",
       "      <td>1</td>\n",
       "      <td>Shift</td>\n",
       "      <td>Shift.t</td>\n",
       "      <td>0.2330</td>\n",
       "    </tr>\n",
       "    <tr>\n",
       "      <th>1</th>\n",
       "      <td>s019</td>\n",
       "      <td>1</td>\n",
       "      <td>3</td>\n",
       "      <td>2</td>\n",
       "      <td>Shift.t</td>\n",
       "      <td>h</td>\n",
       "      <td>0.3116</td>\n",
       "    </tr>\n",
       "    <tr>\n",
       "      <th>2</th>\n",
       "      <td>s019</td>\n",
       "      <td>1</td>\n",
       "      <td>3</td>\n",
       "      <td>3</td>\n",
       "      <td>h</td>\n",
       "      <td>e</td>\n",
       "      <td>0.1392</td>\n",
       "    </tr>\n",
       "    <tr>\n",
       "      <th>3</th>\n",
       "      <td>s019</td>\n",
       "      <td>1</td>\n",
       "      <td>3</td>\n",
       "      <td>4</td>\n",
       "      <td>e</td>\n",
       "      <td>space</td>\n",
       "      <td>0.0811</td>\n",
       "    </tr>\n",
       "    <tr>\n",
       "      <th>4</th>\n",
       "      <td>s019</td>\n",
       "      <td>1</td>\n",
       "      <td>3</td>\n",
       "      <td>5</td>\n",
       "      <td>space</td>\n",
       "      <td>s</td>\n",
       "      <td>0.2738</td>\n",
       "    </tr>\n",
       "  </tbody>\n",
       "</table>\n",
       "</div>"
      ],
      "text/plain": [
       "  subject  sessionIndex  screenIndex  index     key1     key2    time\n",
       "0    s019             1            3      1    Shift  Shift.t  0.2330\n",
       "1    s019             1            3      2  Shift.t        h  0.3116\n",
       "2    s019             1            3      3        h        e  0.1392\n",
       "3    s019             1            3      4        e    space  0.0811\n",
       "4    s019             1            3      5    space        s  0.2738"
      ]
     },
     "execution_count": 2,
     "metadata": {},
     "output_type": "execute_result"
    }
   ],
   "source": [
    "df_oral.head()"
   ]
  },
  {
   "cell_type": "code",
   "execution_count": 7,
   "metadata": {},
   "outputs": [
    {
     "data": {
      "text/plain": [
       "['s019', 's021', 's027', 's033', 's039', 's040', 's043', 's046', 's062']"
      ]
     },
     "execution_count": 7,
     "metadata": {},
     "output_type": "execute_result"
    }
   ],
   "source": [
    "subject_list = df_oral['subject'].unique().tolist()\n",
    "subject_list"
   ]
  },
  {
   "cell_type": "code",
   "execution_count": 22,
   "metadata": {},
   "outputs": [
    {
     "data": {
      "text/plain": [
       "\"\\ncol_name=df_oral.columns.tolist()\\ncol_name\\ncol_name.insert(7,'cumulat_time')\\ndf=df_oral.reindex(columns=col_name) \\n\\nfor _,subject in enumerate(subject_list):\\n    for i in range(2):\\n        df_dital = df_oral[(df_oral['subject']==subject) & (df_oral['sessionIndex']==i)]\\n        screenIndex_list = df_dital['screenIndex'].unique().tolist()\\n        for j,screenIndex in enumerate(screenIndex_list):\\n            df_dital_in = df_dital[df_dital['screenIndex']==screenIndex]\\n            cumulate_time = 0.0\\n            for l in range(len(df_dital_in)):\\n                cumulate_time +=  df_dital_in.iloc[l,6]\\n                df_dital_in.iloc[i,7] = cumulate_time\\n\""
      ]
     },
     "execution_count": 22,
     "metadata": {},
     "output_type": "execute_result"
    }
   ],
   "source": [
    "'''\n",
    "col_name=df_oral.columns.tolist()\n",
    "col_name\n",
    "col_name.insert(7,'cumulat_time')\n",
    "df=df_oral.reindex(columns=col_name) \n",
    "\n",
    "for _,subject in enumerate(subject_list):\n",
    "    for i in range(2):\n",
    "        df_dital = df_oral[(df_oral['subject']==subject) & (df_oral['sessionIndex']==i)]\n",
    "        screenIndex_list = df_dital['screenIndex'].unique().tolist()\n",
    "        for j,screenIndex in enumerate(screenIndex_list):\n",
    "            df_dital_in = df_dital[df_dital['screenIndex']==screenIndex]\n",
    "            cumulate_time = 0.0\n",
    "            for l in range(len(df_dital_in)):\n",
    "                cumulate_time +=  df_dital_in.iloc[l,6]\n",
    "                df_dital_in.iloc[i,7] = cumulate_time\n",
    "'''"
   ]
  },
  {
   "cell_type": "code",
   "execution_count": 25,
   "metadata": {},
   "outputs": [],
   "source": [
    "#计算累积时间\n",
    "col_name=df_oral.columns.tolist()\n",
    "col_name\n",
    "col_name.insert(7,'cumulat_time')\n",
    "df=df_oral.reindex(columns=col_name) \n",
    "\n",
    "cumulate_time = 0.0\n",
    "screenIndex_old = ''\n",
    "screenIndex = ''\n",
    "\n",
    "for i in range(len(df_oral)):\n",
    "    screenIndex = df_oral.iloc[i,2]\n",
    "    if screenIndex_old == '':\n",
    "        screenIndex_old = screenIndex\n",
    "    if screenIndex_old != screenIndex:\n",
    "        cumulate_time = 0\n",
    "    cumulate_time += df_oral.iloc[i,6]\n",
    "    df.iloc[i,7] = cumulate_time\n",
    "    screenIndex_old = screenIndex\n",
    "df.to_excel('./data/DD_output_new.xls') "
   ]
  },
  {
   "cell_type": "markdown",
   "metadata": {},
   "source": [
    "#one-hot编码"
   ]
  },
  {
   "cell_type": "code",
   "execution_count": 30,
   "metadata": {},
   "outputs": [],
   "source": [
    "import pandas as pd\n",
    "import numpy as np\n",
    "from sklearn.preprocessing import LabelBinarizer\n",
    "\n",
    "label = df['key2']\n",
    "\n",
    "one_hot = LabelBinarizer()\n",
    "lable_list  = one_hot.fit_transform(label)"
   ]
  },
  {
   "cell_type": "code",
   "execution_count": 12,
   "metadata": {},
   "outputs": [],
   "source": []
  },
  {
   "cell_type": "code",
   "execution_count": null,
   "metadata": {},
   "outputs": [],
   "source": []
  },
  {
   "cell_type": "code",
   "execution_count": null,
   "metadata": {},
   "outputs": [],
   "source": []
  },
  {
   "cell_type": "code",
   "execution_count": null,
   "metadata": {},
   "outputs": [],
   "source": []
  },
  {
   "cell_type": "code",
   "execution_count": 13,
   "metadata": {},
   "outputs": [
    {
     "data": {
      "text/plain": [
       "['s019', 's021', 's027', 's033', 's039', 's040', 's043', 's046', 's062']"
      ]
     },
     "execution_count": 13,
     "metadata": {},
     "output_type": "execute_result"
    }
   ],
   "source": [
    "userList = df['subject'].unique().tolist()\n",
    "userList"
   ]
  },
  {
   "cell_type": "code",
   "execution_count": null,
   "metadata": {},
   "outputs": [],
   "source": [
    "\n",
    "    "
   ]
  }
 ],
 "metadata": {
  "kernelspec": {
   "display_name": "Python 3",
   "language": "python",
   "name": "python3"
  },
  "language_info": {
   "codemirror_mode": {
    "name": "ipython",
    "version": 3
   },
   "file_extension": ".py",
   "mimetype": "text/x-python",
   "name": "python",
   "nbconvert_exporter": "python",
   "pygments_lexer": "ipython3",
   "version": "3.6.7"
  }
 },
 "nbformat": 4,
 "nbformat_minor": 2
}
