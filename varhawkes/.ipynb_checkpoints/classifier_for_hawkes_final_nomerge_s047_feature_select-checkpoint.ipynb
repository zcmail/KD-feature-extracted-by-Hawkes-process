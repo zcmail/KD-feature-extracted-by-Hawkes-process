{
 "cells": [
  {
   "cell_type": "code",
   "execution_count": 22,
   "metadata": {},
   "outputs": [],
   "source": [
    "import matplotlib.pyplot as plt\n",
    "import matplotlib.mlab as mlab\n",
    "from pandas import DataFrame\n",
    "import pandas as pd\n",
    "import seaborn as sns\n",
    "import numpy as np\n",
    "import json\n",
    "import os\n",
    "import tensorflow as tf\n",
    "\n",
    "fileName1 = './data/CMU_exp_shrink_output_zero.xls'\n",
    "df_ora1 = pd.read_excel(fileName1)\n",
    "\n",
    "np.set_printoptions(threshold=np.inf)\n",
    "\n",
    "#fileName2 = './data/CMU_oral_output.xls'\n",
    "#df_ora2 = pd.read_excel(fileName2)\n",
    "\n",
    "#df_ora = pd.merge(df_ora1,df_ora2,on = 'key')\n",
    "df_ora = df_ora1\n",
    "\n",
    "#object_user = 's002'\n",
    "#object_user = 's032'\n",
    "#object_user = 's036'\n",
    "object_user = 's047'\n",
    "#object_user = 's052'\n",
    "\n",
    "df_ora.loc[df_ora['user']!=object_user,'user'] = 'imposter'\n",
    "df = df_ora\n",
    "#df = df_ora.loc[(df_ora['user']==object_user) | (df_ora['session']<400)]\n",
    "\n",
    "#print (df) \n",
    "###################################PCA\n",
    "from sklearn.decomposition import PCA\n",
    "from sklearn.preprocessing import StandardScaler,LabelEncoder,LabelEncoder\n",
    "\n",
    "le = LabelEncoder()\n",
    "df['target'] = le.fit_transform(df['user'])\n",
    "df.drop(['user'], axis=1, inplace=True)\n",
    "\n",
    "X = df.drop(['target','session','key'], axis=1)\n",
    "y = df['target'].values"
   ]
  },
  {
   "cell_type": "markdown",
   "metadata": {},
   "source": [
    "将样本分为训练集和测试集"
   ]
  },
  {
   "cell_type": "code",
   "execution_count": 23,
   "metadata": {},
   "outputs": [],
   "source": [
    "'''\n",
    "from sklearn.model_selection import train_test_split\n",
    "\n",
    "X_train, X_test, y_train, y_test = train_test_split(X, y, stratify=y, test_size=0.3, random_state=19, shuffle=True)\n",
    "X_train.shape, X_test.shape, y_train.shape, y_test.shape\n",
    "'''\n",
    "'''\n",
    "#s002\n",
    "index_train1 = [i for i in range(200)]    #s002\n",
    "index_train2 = [i+400 for i in range(50)] #s032\n",
    "index_train3 = [i+800 for i in range(50)] #s036\n",
    "index_train4 = [i+1200 for i in range(50)] #s047\n",
    "index_train5 = [i+1600 for i in range(50)] #s052\n",
    "\n",
    "index_test1 = [i+200 for i in range(200)] #s002\n",
    "index_test2 = [i+450 for i in range(350)]  #s032\n",
    "index_test3 = [i+850 for i in range(350)]  #s036\n",
    "index_test4 = [i+1250 for i in range(350)]  #s047\n",
    "index_test5 = [i+1650 for i in range(350)]  #s052\n",
    "'''\n",
    "'''\n",
    "index_train1 = [i+400 for i in range(200)] #s032\n",
    "index_train2 = [i for i in range(50)] #s002\n",
    "index_train3 = [i+800 for i in range(50)] #s036\n",
    "index_train4 = [i+1200 for i in range(50)] #s047\n",
    "index_train5 = [i+1600 for i in range(50)] #s052\n",
    "\n",
    "index_test1 = [i+600 for i in range(200)] #s032\n",
    "index_test2 = [i+50 for i in range(350)]  #s002\n",
    "index_test3 = [i+850 for i in range(350)]  #s036\n",
    "index_test4 = [i+1250 for i in range(350)]  #s047\n",
    "index_test5 = [i+1650 for i in range(350)]  #s052\n",
    "'''\n",
    "\n",
    "'''\n",
    "#s036\n",
    "index_train1 = [i+800 for i in range(200)] #s036\n",
    "index_train2 = [i for i in range(50)] #s002\n",
    "index_train3 = [i+400 for i in range(50)] #s032\n",
    "index_train4 = [i+1200 for i in range(50)] #s047\n",
    "index_train5 = [i+1600 for i in range(50)] #s052\n",
    "\n",
    "index_test1 = [i+1000 for i in range(200)] #s036\n",
    "index_test2 = [i+50 for i in range(350)]  #s002\n",
    "index_test3 = [i+450 for i in range(350)]  #s032\n",
    "index_test4 = [i+1250 for i in range(350)]  #s047\n",
    "index_test5 = [i+1650 for i in range(350)]  #s052\n",
    "\n",
    "'''\n",
    "#s047\n",
    "index_train1 = [i+1200 for i in range(200)] #s047\n",
    "index_train2 = [i for i in range(50)] #s002\n",
    "index_train3 = [i+400 for i in range(50)] #s032\n",
    "index_train4 = [i+800 for i in range(50)] #s036\n",
    "index_train5 = [i+1600 for i in range(50)] #s052\n",
    "\n",
    "index_test1 = [i+1400 for i in range(200)] #s047\n",
    "index_test2 = [i+50 for i in range(350)]  #s002\n",
    "index_test3 = [i+450 for i in range(350)]  #s032\n",
    "index_test4 = [i+850 for i in range(350)]  #s036\n",
    "index_test5 = [i+1650 for i in range(350)]  #s052\n",
    "'''\n",
    "#s052\n",
    "index_train1 = [i+400 for i in range(200)] #s052\n",
    "index_train2 = [i for i in range(50)] #s002\n",
    "index_train3 = [i+100 for i in range(50)] #s032\n",
    "index_train4 = [i+200 for i in range(50)] #s036\n",
    "index_train5 = [i+300 for i in range(50)] #s047\n",
    "\n",
    "index_test1 = [i+600 for i in range(200)] #s052\n",
    "index_test2 = [i+50 for i in range(50)]  #s002\n",
    "index_test3 = [i+150 for i in range(50)]  #s032\n",
    "index_test4 = [i+250 for i in range(50)]  #s036\n",
    "index_test5 = [i+350 for i in range(50)]  #s047\n",
    "'''\n",
    "\n",
    "index_train = index_train1 + index_train2 + index_train3 + index_train4 + index_train5\n",
    "index_test = index_test1 + index_test2 + index_test3 + index_test4 + index_test5\n",
    "\n",
    "X_train = X.iloc[index_train]\n",
    "y_train = y[index_train]"
   ]
  },
  {
   "cell_type": "code",
   "execution_count": 24,
   "metadata": {},
   "outputs": [
    {
     "name": "stdout",
     "output_type": "stream",
     "text": [
      "Optimal number of features : 19\n"
     ]
    },
    {
     "data": {
      "image/png": "[encoded data removed]",
      "text/plain": [
       "<Figure size 432x288 with 1 Axes>"
      ]
     },
     "metadata": {
      "needs_background": "light"
     },
     "output_type": "display_data"
    }
   ],
   "source": [
    "import matplotlib.pyplot as plt\n",
    "from sklearn.svm import SVC\n",
    "from sklearn.model_selection import StratifiedKFold\n",
    "from sklearn.feature_selection import RFECV\n",
    "\n",
    "svc = SVC(kernel=\"linear\", C=1)\n",
    "# The \"accuracy\" scoring is proportional to the number of correct\n",
    "# classifications\n",
    "rfecv = RFECV(estimator=svc, step=1, cv=StratifiedKFold(3), scoring='accuracy')\n",
    "rfecv.fit(X_train, y_train)\n",
    "\n",
    "print(\"Optimal number of features : %d\" % rfecv.n_features_)\n",
    "\n",
    "# Plot number of features VS. cross-validation scores\n",
    "plt.figure()\n",
    "plt.xlabel(\"Number of features selected\")\n",
    "plt.ylabel(\"Cross validation score (nb of correct classifications)\")\n",
    "plt.plot(range(1, len(rfecv.grid_scores_) + 1), rfecv.grid_scores_)\n",
    "plt.show()"
   ]
  },
  {
   "cell_type": "code",
   "execution_count": 25,
   "metadata": {},
   "outputs": [
    {
     "data": {
      "text/plain": [
       "[1, 3, 4, 6, 7, 9, 13, 16, 19, 21, 22, 24, 25, 27, 28, 29, 30, 31, 32]"
      ]
     },
     "execution_count": 25,
     "metadata": {},
     "output_type": "execute_result"
    }
   ],
   "source": [
    "rfecv_sport = rfecv.support_.tolist()\n",
    "rfecv_sport\n",
    "select_cul = [i for i in range(len(rfecv_sport)) if rfecv_sport[i] == True]\n",
    "select_cul"
   ]
  },
  {
   "cell_type": "code",
   "execution_count": 95,
   "metadata": {},
   "outputs": [],
   "source": [
    "#rfecv_sport = rfecv.support_.tolist()\n",
    "#rfecv_sport"
   ]
  },
  {
   "cell_type": "code",
   "execution_count": 26,
   "metadata": {},
   "outputs": [],
   "source": [
    "rfecv_sport = rfecv.support_.tolist()\n",
    "select_cul = [i for i in range(len(rfecv_sport)) if rfecv_sport[i] == True]\n",
    "\n",
    "\n",
    "X = X.iloc[:,select_cul]\n",
    "ss = StandardScaler()\n",
    "X = ss.fit_transform(X)\n",
    "X = pd.DataFrame(X)\n",
    "\n",
    "X_train = X.iloc[index_train]\n",
    "X_test = X.iloc[index_test]\n",
    "y_train = y[index_train]\n",
    "y_test = y[index_test]"
   ]
  },
  {
   "cell_type": "markdown",
   "metadata": {},
   "source": [
    "SVM2"
   ]
  },
  {
   "cell_type": "code",
   "execution_count": 34,
   "metadata": {},
   "outputs": [
    {
     "name": "stderr",
     "output_type": "stream",
     "text": [
      "/usr/local/lib/python3.6/dist-packages/sklearn/svm/base.py:196: FutureWarning: The default value of gamma will change from 'auto' to 'scale' in version 0.22 to account better for unscaled features. Set gamma explicitly to 'auto' or 'scale' to avoid this warning.\n",
      "  \"avoid this warning.\", FutureWarning)\n",
      "/usr/local/lib/python3.6/dist-packages/sklearn/svm/base.py:196: FutureWarning: The default value of gamma will change from 'auto' to 'scale' in version 0.22 to account better for unscaled features. Set gamma explicitly to 'auto' or 'scale' to avoid this warning.\n",
      "  \"avoid this warning.\", FutureWarning)\n",
      "/usr/local/lib/python3.6/dist-packages/sklearn/svm/base.py:196: FutureWarning: The default value of gamma will change from 'auto' to 'scale' in version 0.22 to account better for unscaled features. Set gamma explicitly to 'auto' or 'scale' to avoid this warning.\n",
      "  \"avoid this warning.\", FutureWarning)\n",
      "/usr/local/lib/python3.6/dist-packages/sklearn/svm/base.py:196: FutureWarning: The default value of gamma will change from 'auto' to 'scale' in version 0.22 to account better for unscaled features. Set gamma explicitly to 'auto' or 'scale' to avoid this warning.\n",
      "  \"avoid this warning.\", FutureWarning)\n",
      "/usr/local/lib/python3.6/dist-packages/sklearn/svm/base.py:196: FutureWarning: The default value of gamma will change from 'auto' to 'scale' in version 0.22 to account better for unscaled features. Set gamma explicitly to 'auto' or 'scale' to avoid this warning.\n",
      "  \"avoid this warning.\", FutureWarning)\n",
      "/usr/local/lib/python3.6/dist-packages/sklearn/svm/base.py:196: FutureWarning: The default value of gamma will change from 'auto' to 'scale' in version 0.22 to account better for unscaled features. Set gamma explicitly to 'auto' or 'scale' to avoid this warning.\n",
      "  \"avoid this warning.\", FutureWarning)\n",
      "/usr/local/lib/python3.6/dist-packages/sklearn/svm/base.py:196: FutureWarning: The default value of gamma will change from 'auto' to 'scale' in version 0.22 to account better for unscaled features. Set gamma explicitly to 'auto' or 'scale' to avoid this warning.\n",
      "  \"avoid this warning.\", FutureWarning)\n",
      "/usr/local/lib/python3.6/dist-packages/sklearn/svm/base.py:196: FutureWarning: The default value of gamma will change from 'auto' to 'scale' in version 0.22 to account better for unscaled features. Set gamma explicitly to 'auto' or 'scale' to avoid this warning.\n",
      "  \"avoid this warning.\", FutureWarning)\n",
      "/usr/local/lib/python3.6/dist-packages/sklearn/svm/base.py:196: FutureWarning: The default value of gamma will change from 'auto' to 'scale' in version 0.22 to account better for unscaled features. Set gamma explicitly to 'auto' or 'scale' to avoid this warning.\n",
      "  \"avoid this warning.\", FutureWarning)\n",
      "/usr/local/lib/python3.6/dist-packages/sklearn/svm/base.py:196: FutureWarning: The default value of gamma will change from 'auto' to 'scale' in version 0.22 to account better for unscaled features. Set gamma explicitly to 'auto' or 'scale' to avoid this warning.\n",
      "  \"avoid this warning.\", FutureWarning)\n",
      "/usr/local/lib/python3.6/dist-packages/sklearn/svm/base.py:196: FutureWarning: The default value of gamma will change from 'auto' to 'scale' in version 0.22 to account better for unscaled features. Set gamma explicitly to 'auto' or 'scale' to avoid this warning.\n",
      "  \"avoid this warning.\", FutureWarning)\n",
      "/usr/local/lib/python3.6/dist-packages/sklearn/svm/base.py:196: FutureWarning: The default value of gamma will change from 'auto' to 'scale' in version 0.22 to account better for unscaled features. Set gamma explicitly to 'auto' or 'scale' to avoid this warning.\n",
      "  \"avoid this warning.\", FutureWarning)\n",
      "/usr/local/lib/python3.6/dist-packages/sklearn/svm/base.py:196: FutureWarning: The default value of gamma will change from 'auto' to 'scale' in version 0.22 to account better for unscaled features. Set gamma explicitly to 'auto' or 'scale' to avoid this warning.\n",
      "  \"avoid this warning.\", FutureWarning)\n",
      "/usr/local/lib/python3.6/dist-packages/sklearn/svm/base.py:196: FutureWarning: The default value of gamma will change from 'auto' to 'scale' in version 0.22 to account better for unscaled features. Set gamma explicitly to 'auto' or 'scale' to avoid this warning.\n",
      "  \"avoid this warning.\", FutureWarning)\n",
      "/usr/local/lib/python3.6/dist-packages/sklearn/svm/base.py:196: FutureWarning: The default value of gamma will change from 'auto' to 'scale' in version 0.22 to account better for unscaled features. Set gamma explicitly to 'auto' or 'scale' to avoid this warning.\n",
      "  \"avoid this warning.\", FutureWarning)\n",
      "/usr/local/lib/python3.6/dist-packages/sklearn/svm/base.py:196: FutureWarning: The default value of gamma will change from 'auto' to 'scale' in version 0.22 to account better for unscaled features. Set gamma explicitly to 'auto' or 'scale' to avoid this warning.\n",
      "  \"avoid this warning.\", FutureWarning)\n",
      "/usr/local/lib/python3.6/dist-packages/sklearn/svm/base.py:196: FutureWarning: The default value of gamma will change from 'auto' to 'scale' in version 0.22 to account better for unscaled features. Set gamma explicitly to 'auto' or 'scale' to avoid this warning.\n",
      "  \"avoid this warning.\", FutureWarning)\n",
      "/usr/local/lib/python3.6/dist-packages/sklearn/svm/base.py:196: FutureWarning: The default value of gamma will change from 'auto' to 'scale' in version 0.22 to account better for unscaled features. Set gamma explicitly to 'auto' or 'scale' to avoid this warning.\n",
      "  \"avoid this warning.\", FutureWarning)\n"
     ]
    },
    {
     "name": "stdout",
     "output_type": "stream",
     "text": [
      "Attrabutes:vvvvvvvvvvvvvvvvvvvvvvvvvvvvvvvvvvvvvvvvvv\n",
      "cv_results_: dict_keys(['mean_fit_time', 'std_fit_time', 'mean_score_time', 'std_score_time', 'param_C', 'param_kernel', 'param_degree', 'param_gamma', 'params', 'split0_test_score', 'split1_test_score', 'split2_test_score', 'mean_test_score', 'std_test_score', 'rank_test_score', 'split0_train_score', 'split1_train_score', 'split2_train_score', 'mean_train_score', 'std_train_score'])\n",
      "Desc: {'C': 100, 'kernel': 'linear'} 0.9475274005910297 0.745 13\n",
      "best_estimator_: SVC(C=10, cache_size=200, class_weight=None, coef0=0.0,\n",
      "  decision_function_shape='ovr', degree=3, gamma=0.1, kernel='rbf',\n",
      "  max_iter=-1, probability=True, random_state=None, shrinking=True,\n",
      "  tol=0.001, verbose=False)\n",
      "best_params_: {'C': 10, 'gamma': 0.1, 'kernel': 'rbf'}\n",
      "best_params_: {'C': 10, 'gamma': 0.1, 'kernel': 'rbf'}\n",
      "best_score_: 0.7975\n",
      "scorer_: <function _passthrough_scorer at 0x7fc6cf622950>\n",
      "n_splits_: 3\n"
     ]
    },
    {
     "name": "stderr",
     "output_type": "stream",
     "text": [
      "/usr/local/lib/python3.6/dist-packages/sklearn/model_selection/_search.py:841: DeprecationWarning: The default of the `iid` parameter will change from True to False in version 0.22 and will be removed in 0.24. This will change numeric results when test-set sizes are unequal.\n",
      "  DeprecationWarning)\n"
     ]
    }
   ],
   "source": [
    "from numpy.random import seed\n",
    "seed(1)\n",
    "tf.random.set_seed(2)\n",
    "\n",
    "import numpy as np\n",
    "import sklearn.model_selection as ms\n",
    "import sklearn.svm as svm\n",
    "import sklearn.metrics as sm\n",
    "import matplotlib.pyplot as plt\n",
    "\n",
    "# 最优超参数组合列表\n",
    "params = [\n",
    "        {'kernel': ['linear'], 'C': [1, 10, 100, 1000]},\n",
    "        {'kernel': ['poly'], 'C': [1,10,100], 'degree': [2, 3]},\n",
    "        {'kernel': ['rbf'], 'C': [1, 10, 100, 100,1000], 'gamma':[1, 0.1, 0.01, 0.001]}\n",
    "        ]\n",
    "\n",
    "model = ms.GridSearchCV(svm.SVC(probability=True), \n",
    "                        params, \n",
    "                        refit=True,\n",
    "                        return_train_score=True,        # 后续版本需要指定True才有score方法  \n",
    "                        cv=4)\n",
    "model.fit(X_train, y_train)\n",
    "\n",
    "# GridSearchCV的属性\n",
    "print('Attrabutes:vvvvvvvvvvvvvvvvvvvvvvvvvvvvvvvvvvvvvvvvvv')\n",
    "print('cv_results_:',model.cv_results_.keys())\n",
    "print('Desc:',model.cv_results_['params'][2], model.cv_results_['mean_train_score'][2], \n",
    "      model.cv_results_['mean_test_score'][2],model.cv_results_['rank_test_score'][2])\n",
    "print('best_estimator_:',model.best_estimator_) \n",
    "print('best_params_:',model.best_params_) \n",
    "print('best_params_:', model.cv_results_['params'][model.best_index_])\n",
    "print('best_score_:',model.best_score_)\n",
    "print('scorer_:',model.scorer_)\n",
    "print('n_splits_:',model.n_splits_)"
   ]
  },
  {
   "cell_type": "code",
   "execution_count": 36,
   "metadata": {},
   "outputs": [],
   "source": [
    "y_predict_SVM = model.best_estimator_.predict(X_test)\n",
    "#ann_fileName = \"feature_SVM_best\"+object_user+\"_Hawkes.txt\"\n",
    "#np.savetxt(ann_fileName, np.array(y_predict_SVM))"
   ]
  },
  {
   "cell_type": "code",
   "execution_count": 37,
   "metadata": {},
   "outputs": [
    {
     "name": "stdout",
     "output_type": "stream",
     "text": [
      "accuracy: 0.85625\n",
      "precision: 0.4512987012987013\n",
      "recall: 0.695\n",
      "f1score: 0.547244094488189\n",
      "Macro-F1: 0.7309028793391911\n",
      "Micro-F1: 0.85625\n"
     ]
    }
   ],
   "source": [
    "#评价指标\n",
    "from sklearn.metrics import confusion_matrix, f1_score, precision_score, recall_score,accuracy_score\n",
    "\n",
    "y_true = np.reshape(y_test, [-1])\n",
    "y_pred = np.reshape(y_predict_SVM, [-1])\n",
    "  \n",
    "# 评价指标\n",
    "accuracy = accuracy_score(y_true, y_pred)\n",
    "precision = precision_score(y_true, y_pred)\n",
    "recall = recall_score(y_true, y_pred, average='binary')\n",
    "f1score = f1_score(y_true, y_pred, average='binary')\n",
    "  \n",
    "# Micro F1: 将n分类的评价拆成n个二分类的评价，将n个二分类评价的TP、FP、RN对应相加，计算评价准确率和召回率，由这2个准确率和召回率计算的F1 score即为Micro F1。\n",
    "# Macro F1: 将n分类的评价拆成n个二分类的评价，计算每个二分类的F1 score，n个F1 score的平均值即为Macro F1。\n",
    "# 一般来讲，Macro F1、Micro F1高的分类效果好。Macro F1受样本数量少的类别影响大。\n",
    "micro_f1 = f1_score(y_true, y_pred,average='micro')\n",
    "macro_f1 = f1_score(y_true, y_pred,average='macro')\n",
    "  \n",
    "print('accuracy:',accuracy)\n",
    "print('precision:',precision)\n",
    "print('recall:',recall)\n",
    "print('f1score:',f1score)\n",
    "print('Macro-F1: {}'.format(macro_f1))\n",
    "print('Micro-F1: {}'.format(micro_f1))"
   ]
  },
  {
   "cell_type": "markdown",
   "metadata": {},
   "source": [
    "神经网络"
   ]
  },
  {
   "cell_type": "code",
   "execution_count": 32,
   "metadata": {},
   "outputs": [
    {
     "name": "stderr",
     "output_type": "stream",
     "text": [
      "/usr/local/lib/python3.6/dist-packages/sklearn/model_selection/_split.py:2053: FutureWarning: You should specify a value for 'cv' instead of relying on the default value. The default value will change from 3 to 5 in version 0.22.\n",
      "  warnings.warn(CV_WARNING, FutureWarning)\n"
     ]
    },
    {
     "name": "stdout",
     "output_type": "stream",
     "text": [
      "Iteration 1, loss = 0.64215279\n",
      "Iteration 2, loss = 0.64110132\n",
      "Iteration 3, loss = 0.63949428\n",
      "Iteration 4, loss = 0.63745034\n",
      "Iteration 5, loss = 0.63517804\n",
      "Iteration 6, loss = 0.63247737\n",
      "Iteration 7, loss = 0.62975815\n",
      "Iteration 8, loss = 0.62708156\n",
      "Iteration 9, loss = 0.62411377\n",
      "Iteration 10, loss = 0.62119715\n",
      "Iteration 11, loss = 0.61826308\n",
      "Iteration 12, loss = 0.61515900\n",
      "Iteration 13, loss = 0.61232943\n",
      "Iteration 14, loss = 0.60949157\n",
      "Iteration 15, loss = 0.60662717\n",
      "Iteration 16, loss = 0.60401676\n",
      "Iteration 17, loss = 0.60118219\n",
      "Iteration 18, loss = 0.59854600\n",
      "Iteration 19, loss = 0.59583525\n",
      "Iteration 20, loss = 0.59333019\n",
      "Iteration 21, loss = 0.59067086\n",
      "Iteration 22, loss = 0.58822959\n",
      "Iteration 23, loss = 0.58571781\n",
      "Iteration 24, loss = 0.58330397\n",
      "Iteration 25, loss = 0.58090249\n",
      "Iteration 26, loss = 0.57849965\n",
      "Iteration 27, loss = 0.57619126\n",
      "Iteration 28, loss = 0.57392063\n",
      "Iteration 29, loss = 0.57157320\n",
      "Iteration 30, loss = 0.56939026\n",
      "Iteration 31, loss = 0.56719800\n",
      "Iteration 32, loss = 0.56510709\n",
      "Iteration 33, loss = 0.56288826\n",
      "Iteration 34, loss = 0.56075664\n",
      "Iteration 35, loss = 0.55868721\n",
      "Iteration 36, loss = 0.55658548\n",
      "Iteration 37, loss = 0.55451659\n",
      "Iteration 38, loss = 0.55251198\n",
      "Iteration 39, loss = 0.55043490\n",
      "Iteration 40, loss = 0.54847214\n",
      "Iteration 41, loss = 0.54654652\n",
      "Iteration 42, loss = 0.54464117\n",
      "Iteration 43, loss = 0.54270059\n",
      "Iteration 44, loss = 0.54083755\n",
      "Iteration 45, loss = 0.53889590\n",
      "Iteration 46, loss = 0.53706111\n",
      "Iteration 47, loss = 0.53523334\n",
      "Iteration 48, loss = 0.53341457\n",
      "Iteration 49, loss = 0.53159895\n",
      "Iteration 50, loss = 0.52975925\n",
      "Iteration 51, loss = 0.52801714\n",
      "Iteration 52, loss = 0.52630330\n",
      "Iteration 53, loss = 0.52457156\n",
      "Iteration 54, loss = 0.52283129\n",
      "Iteration 55, loss = 0.52114083\n",
      "Iteration 56, loss = 0.51945779\n",
      "Iteration 57, loss = 0.51774099\n",
      "Iteration 58, loss = 0.51614346\n",
      "Iteration 59, loss = 0.51447914\n",
      "Iteration 60, loss = 0.51283873\n",
      "Iteration 61, loss = 0.51126253\n",
      "Iteration 62, loss = 0.50966479\n",
      "Iteration 63, loss = 0.50805222\n",
      "Iteration 64, loss = 0.50650826\n",
      "Iteration 65, loss = 0.50493489\n",
      "Iteration 66, loss = 0.50337933\n",
      "Iteration 67, loss = 0.50186361\n",
      "Iteration 68, loss = 0.50036132\n",
      "Iteration 69, loss = 0.49884397\n",
      "Iteration 70, loss = 0.49737550\n",
      "Iteration 71, loss = 0.49589737\n",
      "Iteration 72, loss = 0.49441885\n",
      "Iteration 73, loss = 0.49302234\n",
      "Iteration 74, loss = 0.49155779\n",
      "Iteration 75, loss = 0.49012154\n",
      "Iteration 76, loss = 0.48870565\n",
      "Iteration 77, loss = 0.48730724\n",
      "Iteration 78, loss = 0.48589301\n",
      "Iteration 79, loss = 0.48450728\n",
      "Iteration 80, loss = 0.48311864\n",
      "Iteration 81, loss = 0.48179090\n",
      "Iteration 82, loss = 0.48036651\n",
      "Iteration 83, loss = 0.47908933\n",
      "Iteration 84, loss = 0.47767099\n",
      "Iteration 85, loss = 0.47638684\n",
      "Iteration 86, loss = 0.47508553\n",
      "Iteration 87, loss = 0.47379428\n",
      "Iteration 88, loss = 0.47247070\n",
      "Iteration 89, loss = 0.47120412\n",
      "Iteration 90, loss = 0.46989329\n",
      "Iteration 91, loss = 0.46870181\n",
      "Iteration 92, loss = 0.46739642\n",
      "Iteration 93, loss = 0.46615414\n",
      "Iteration 94, loss = 0.46499505\n",
      "Iteration 95, loss = 0.46373661\n",
      "Iteration 96, loss = 0.46252569\n",
      "Iteration 97, loss = 0.46135229\n",
      "Iteration 98, loss = 0.46015694\n",
      "Iteration 99, loss = 0.45898031\n",
      "Iteration 100, loss = 0.45779464\n",
      "dict_keys(['cv', 'error_score', 'estimator__activation', 'estimator__alpha', 'estimator__batch_size', 'estimator__beta_1', 'estimator__beta_2', 'estimator__early_stopping', 'estimator__epsilon', 'estimator__hidden_layer_sizes', 'estimator__learning_rate', 'estimator__learning_rate_init', 'estimator__max_iter', 'estimator__momentum', 'estimator__n_iter_no_change', 'estimator__nesterovs_momentum', 'estimator__power_t', 'estimator__random_state', 'estimator__shuffle', 'estimator__solver', 'estimator__tol', 'estimator__validation_fraction', 'estimator__verbose', 'estimator__warm_start', 'estimator', 'fit_params', 'iid', 'n_jobs', 'param_grid', 'pre_dispatch', 'refit', 'return_train_score', 'scoring', 'verbose'])\n",
      "{'hidden_layer_sizes': (40, 16), 'max_iter': 100, 'solver': 'sgd', 'verbose': True}\n"
     ]
    },
    {
     "name": "stderr",
     "output_type": "stream",
     "text": [
      "/usr/local/lib/python3.6/dist-packages/sklearn/model_selection/_search.py:841: DeprecationWarning: The default of the `iid` parameter will change from True to False in version 0.22 and will be removed in 0.24. This will change numeric results when test-set sizes are unequal.\n",
      "  DeprecationWarning)\n",
      "/usr/local/lib/python3.6/dist-packages/sklearn/neural_network/multilayer_perceptron.py:562: ConvergenceWarning: Stochastic Optimizer: Maximum iterations (100) reached and the optimization hasn't converged yet.\n",
      "  % self.max_iter, ConvergenceWarning)\n"
     ]
    }
   ],
   "source": [
    "from numpy.random import seed\n",
    "seed(1)\n",
    "tf.random.set_seed(2)\n",
    "\n",
    "from sklearn.neural_network import MLPClassifier\n",
    "from sklearn.model_selection import GridSearchCV\n",
    "import numpy as np\n",
    "import pickle\n",
    "import gzip\n",
    "import matplotlib.pyplot as plt\n",
    "\n",
    "mlp_clf__tuned_parameters = {\"hidden_layer_sizes\": [(8),(16),(16,8),(32),(32,16),(40),(40,16),(50,),(50,32),(64), (64,32),(128,64,32)],\n",
    "                             \"solver\": ['adam', 'sgd', 'lbfgs'],\n",
    "                             \"max_iter\": [20,100,200,1000,5000],\n",
    "                             \"verbose\": [True]\n",
    "                             }\n",
    "mlp = MLPClassifier()\n",
    "estimator = GridSearchCV(mlp, mlp_clf__tuned_parameters, n_jobs=6)\n",
    "estimator.fit(X_train, y_train)\n",
    "\n",
    "print(estimator.get_params().keys()) \n",
    "print (estimator.best_params_)"
   ]
  },
  {
   "cell_type": "code",
   "execution_count": 13,
   "metadata": {},
   "outputs": [],
   "source": [
    "y_predict = estimator.best_estimator_.predict(X_test)\n",
    "#y_predict\n",
    "#ann_fileName = \"feature_ANN_best\"+object_user+\"_Hawkes.txt\"\n",
    "#np.savetxt(ann_fileName, np.array(y_predict))"
   ]
  },
  {
   "cell_type": "code",
   "execution_count": 14,
   "metadata": {},
   "outputs": [
    {
     "name": "stdout",
     "output_type": "stream",
     "text": [
      "accuracy: 0.76875\n",
      "precision: 0.32653061224489793\n",
      "recall: 0.8\n",
      "f1score: 0.46376811594202894\n",
      "Macro-F1: 0.658178878688146\n",
      "Micro-F1: 0.76875\n"
     ]
    }
   ],
   "source": [
    "#评价指标\n",
    "from sklearn.metrics import confusion_matrix, f1_score, precision_score, recall_score,accuracy_score\n",
    "\n",
    "y_true = np.reshape(y_test, [-1])\n",
    "y_pred = np.reshape(y_predict, [-1])\n",
    "  \n",
    "# 评价指标\n",
    "accuracy = accuracy_score(y_true, y_pred)\n",
    "precision = precision_score(y_true, y_pred)\n",
    "recall = recall_score(y_true, y_pred, average='binary')\n",
    "f1score = f1_score(y_true, y_pred, average='binary')\n",
    "  \n",
    "# Micro F1: 将n分类的评价拆成n个二分类的评价，将n个二分类评价的TP、FP、RN对应相加，计算评价准确率和召回率，由这2个准确率和召回率计算的F1 score即为Micro F1。\n",
    "# Macro F1: 将n分类的评价拆成n个二分类的评价，计算每个二分类的F1 score，n个F1 score的平均值即为Macro F1。\n",
    "# 一般来讲，Macro F1、Micro F1高的分类效果好。Macro F1受样本数量少的类别影响大。\n",
    "micro_f1 = f1_score(y_true, y_pred,average='micro')\n",
    "macro_f1 = f1_score(y_true, y_pred,average='macro')\n",
    "  \n",
    "print('accuracy:',accuracy)\n",
    "print('precision:',precision)\n",
    "print('recall:',recall)\n",
    "print('f1score:',f1score)\n",
    "print('Macro-F1: {}'.format(macro_f1))\n",
    "print('Micro-F1: {}'.format(micro_f1))"
   ]
  },
  {
   "cell_type": "code",
   "execution_count": 18,
   "metadata": {},
   "outputs": [
    {
     "name": "stdout",
     "output_type": "stream",
     "text": [
      "kfold-------\n"
     ]
    },
    {
     "name": "stderr",
     "output_type": "stream",
     "text": [
      "/usr/local/lib/python3.6/dist-packages/sklearn/neural_network/multilayer_perceptron.py:562: ConvergenceWarning: Stochastic Optimizer: Maximum iterations (100) reached and the optimization hasn't converged yet.\n",
      "  % self.max_iter, ConvergenceWarning)\n",
      "/usr/local/lib/python3.6/dist-packages/sklearn/neural_network/multilayer_perceptron.py:562: ConvergenceWarning: Stochastic Optimizer: Maximum iterations (100) reached and the optimization hasn't converged yet.\n",
      "  % self.max_iter, ConvergenceWarning)\n",
      "/usr/local/lib/python3.6/dist-packages/sklearn/neural_network/multilayer_perceptron.py:562: ConvergenceWarning: Stochastic Optimizer: Maximum iterations (100) reached and the optimization hasn't converged yet.\n",
      "  % self.max_iter, ConvergenceWarning)\n"
     ]
    },
    {
     "name": "stdout",
     "output_type": "stream",
     "text": [
      "in_sample_error: \n",
      "[0.20750000000000002, 0.20750000000000002, 0.20750000000000002, 0.20750000000000002]\n",
      "test_set_error: \n",
      "[0.23124999999999996, 0.23124999999999996, 0.23124999999999996, 0.23124999999999996]\n",
      "test_score：0.76875\n",
      "test_error：0.23124999999999996\n"
     ]
    },
    {
     "name": "stderr",
     "output_type": "stream",
     "text": [
      "/usr/local/lib/python3.6/dist-packages/sklearn/neural_network/multilayer_perceptron.py:562: ConvergenceWarning: Stochastic Optimizer: Maximum iterations (100) reached and the optimization hasn't converged yet.\n",
      "  % self.max_iter, ConvergenceWarning)\n"
     ]
    }
   ],
   "source": [
    "from numpy.random import seed\n",
    "seed(1)\n",
    "tf.random.set_seed(2)\n",
    "\n",
    "# two-layer neural network \n",
    "# train part\n",
    "import numpy as np\n",
    "from sklearn.neural_network import MLPClassifier\n",
    "from sklearn.model_selection import KFold\n",
    "from joblib import dump\n",
    "\n",
    "#neural network classifier of structure (3,2)\n",
    "kf = KFold(n_splits=4) # 3-fold cross-validation\n",
    "best_clf = None\n",
    "best_score = 0\n",
    "train_scores = []\n",
    "test_scores = []\n",
    "print(\"kfold-------\")\n",
    "for train_index, test_index in kf.split(X):\n",
    "    # create neural network using MLPClassifer  {sgd,lbfgs, adam}\n",
    "    clf = MLPClassifier(solver = 'sgd', max_iter = 100, hidden_layer_sizes =  (128, 64, 32),random_state = 1)\n",
    "    #X_train, X_test = X[train_index], X[test_index]\n",
    "    #y_train, y_test = y[train_index], y[test_index]\n",
    "    clf.fit(X_train, y_train)\n",
    "    train_score = clf.score(X_train, y_train)\n",
    "    train_scores.append(train_score)\n",
    " \n",
    "    test_score = clf.score(X_test, y_test)\n",
    "    test_scores.append(test_score)\n",
    "\n",
    "    #compare score of the tree models and get the best one\n",
    "    if test_score > best_score:\n",
    "        best_score = test_score\n",
    "        best_clf = clf\n",
    "    \n",
    "    #print(clf.n_outputs_)\n",
    "in_sample_error = [1 - score for score in train_scores]\n",
    "test_set_error = [1 - score for score in test_scores]\n",
    "print(\"in_sample_error: \")\n",
    "print(in_sample_error)\n",
    "print(\"test_set_error: \")\n",
    "print(test_set_error)\n",
    "\n",
    "#store the classifier\n",
    "if best_clf != None:\n",
    "    dump(best_clf, \"train_model.m\")\n",
    "    \n",
    "from joblib import load\n",
    "clf = load(\"train_model.m\")\n",
    "y_pred = clf.predict(X_test)\n",
    "np.savetxt(\"label_pred.txt\", np.array(y_pred)) #save predict result\n",
    "#print(y_pred)\n",
    "test_score = clf.score(X_test, y_test)\n",
    "test_error = 1 - test_score\n",
    "print('test_score：%s' % test_score)\n",
    "print('test_error：%s' % test_error)"
   ]
  },
  {
   "cell_type": "code",
   "execution_count": 19,
   "metadata": {},
   "outputs": [],
   "source": [
    "ann_fileName = \"feature_ANN_\"+object_user+\"_Hawkes.txt\"\n",
    "np.savetxt(ann_fileName, np.array(y_pred))"
   ]
  },
  {
   "cell_type": "code",
   "execution_count": 20,
   "metadata": {},
   "outputs": [
    {
     "name": "stdout",
     "output_type": "stream",
     "text": [
      "accuracy: 0.76875\n",
      "precision: 0.32653061224489793\n",
      "recall: 0.8\n",
      "f1score: 0.46376811594202894\n",
      "Macro-F1: 0.658178878688146\n",
      "Micro-F1: 0.76875\n"
     ]
    }
   ],
   "source": [
    "#评价指标\n",
    "from sklearn.metrics import confusion_matrix, f1_score, precision_score, recall_score,accuracy_score\n",
    "\n",
    "y_true = np.reshape(y_test, [-1])\n",
    "y_pred = np.reshape(y_pred, [-1])\n",
    "  \n",
    "# 评价指标\n",
    "accuracy = accuracy_score(y_true, y_pred)\n",
    "precision = precision_score(y_true, y_pred)\n",
    "recall = recall_score(y_true, y_pred, average='binary')\n",
    "f1score = f1_score(y_true, y_pred, average='binary')\n",
    "  \n",
    "# Micro F1: 将n分类的评价拆成n个二分类的评价，将n个二分类评价的TP、FP、RN对应相加，计算评价准确率和召回率，由这2个准确率和召回率计算的F1 score即为Micro F1。\n",
    "# Macro F1: 将n分类的评价拆成n个二分类的评价，计算每个二分类的F1 score，n个F1 score的平均值即为Macro F1。\n",
    "# 一般来讲，Macro F1、Micro F1高的分类效果好。Macro F1受样本数量少的类别影响大。\n",
    "micro_f1 = f1_score(y_true, y_pred,average='micro')\n",
    "macro_f1 = f1_score(y_true, y_pred,average='macro')\n",
    "  \n",
    "print('accuracy:',accuracy)\n",
    "print('precision:',precision)\n",
    "print('recall:',recall)\n",
    "print('f1score:',f1score)\n",
    "print('Macro-F1: {}'.format(macro_f1))\n",
    "print('Micro-F1: {}'.format(micro_f1))"
   ]
  },
  {
   "cell_type": "code",
   "execution_count": null,
   "metadata": {},
   "outputs": [],
   "source": []
  }
 ],
 "metadata": {
  "kernelspec": {
   "display_name": "Python 3",
   "language": "python",
   "name": "python3"
  },
  "language_info": {
   "codemirror_mode": {
    "name": "ipython",
    "version": 3
   },
   "file_extension": ".py",
   "mimetype": "text/x-python",
   "name": "python",
   "nbconvert_exporter": "python",
   "pygments_lexer": "ipython3",
   "version": "3.6.7"
  }
 },
 "nbformat": 4,
 "nbformat_minor": 2
}
